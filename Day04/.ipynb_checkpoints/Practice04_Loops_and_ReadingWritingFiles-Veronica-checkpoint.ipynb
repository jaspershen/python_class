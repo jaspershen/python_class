{
 "cells": [
  {
   "cell_type": "markdown",
   "metadata": {},
   "source": [
    "# Practice: Loops and Reading/Writing Files"
   ]
  },
  {
   "cell_type": "markdown",
   "metadata": {},
   "source": [
    "**11/21/2019<br>\n",
    "BIOS 274: Introductory Python Programming for Genomics**<br>"
   ]
  },
  {
   "cell_type": "markdown",
   "metadata": {},
   "source": [
    "## Table of Contents\n",
    "1. [for loops](#for)<br>\n",
    "2. [while loops](#while)\n",
    "3. [break and continue: Disruptin loops](#break)<br>\n",
    "4. [range(), zip(), and emumerate(): Useful tools for loops](#range)<br>\n",
    "5. [Reading and Writing files](#reading)\n",
    "6. [Let's practice!](#practice)"
   ]
  },
  {
   "cell_type": "markdown",
   "metadata": {},
   "source": [
    "<a id=\"for\"></a>\n",
    "## for loops\n",
    "#### iterating over strings, lists, tuples, sets, dictionaries"
   ]
  },
  {
   "cell_type": "code",
   "execution_count": 1,
   "metadata": {},
   "outputs": [
    {
     "name": "stdout",
     "output_type": "stream",
     "text": [
      "s\n",
      "t\n",
      "u\n",
      "v\n",
      "w\n",
      "x\n",
      "y\n",
      "z\n"
     ]
    }
   ],
   "source": [
    "# Iterating over a string\n",
    "\n",
    "myString = 'stuvwxyz'\n",
    "\n",
    "for item in myString:\n",
    "    print(item)"
   ]
  },
  {
   "cell_type": "code",
   "execution_count": null,
   "metadata": {},
   "outputs": [],
   "source": [
    "# Iterating over a list\n",
    "\n",
    "myList = [1, 2, 3, 4, 5, 6]\n",
    "\n",
    "for item in myList:\n",
    "    print(item, item*5)"
   ]
  },
  {
   "cell_type": "code",
   "execution_count": null,
   "metadata": {},
   "outputs": [],
   "source": [
    "# Iterating over a dictionary\n",
    "\n",
    "myDict = {'a': 1, 'b':2, 'c':3, 'd':4}\n",
    "\n",
    "# Option 1\n",
    "for key, value in myDict.items():\n",
    "    print(key, value, value*5)\n",
    "    \n",
    "print()\n",
    "\n",
    "# Option 2\n",
    "for key in myDict:\n",
    "    value = myDict[key]\n",
    "    print(key, value, value*5)"
   ]
  },
  {
   "cell_type": "markdown",
   "metadata": {},
   "source": [
    "<a id=\"while\"></a>\n",
    "## while loops"
   ]
  },
  {
   "cell_type": "code",
   "execution_count": null,
   "metadata": {},
   "outputs": [],
   "source": [
    "x = 0\n",
    "\n",
    "while x < 5:\n",
    "    print(x)\n",
    "    x += 1    # what would happen if we didn't have this line?"
   ]
  },
  {
   "cell_type": "markdown",
   "metadata": {},
   "source": [
    "<a id=\"break\"></a>\n",
    "## break and continue: Disrupting loops"
   ]
  },
  {
   "cell_type": "markdown",
   "metadata": {},
   "source": [
    "Modify this code so that it prints out only <code>1</code>, <code>2</code>, <code>3</code>, <code>4</code>, and <code>'Finished!'</code>"
   ]
  },
  {
   "cell_type": "code",
   "execution_count": null,
   "metadata": {},
   "outputs": [],
   "source": [
    "i = 0\n",
    "\n",
    "while True:\n",
    "    i += 1\n",
    "    print(i)\n",
    "    \n",
    "print('Finished!')"
   ]
  },
  {
   "cell_type": "markdown",
   "metadata": {},
   "source": [
    "Modify this code so that it prints out only <code>1</code>, <code>2</code>, <code>3</code>, <code>4</code>, <code>6</code>, <code>7</code>, <code>8</code>, <code>9</code>, <code>10</code>, and <code>'Finished!'</code>"
   ]
  },
  {
   "cell_type": "code",
   "execution_count": null,
   "metadata": {},
   "outputs": [],
   "source": [
    "i = 0\n",
    "\n",
    "while i < 10:\n",
    "    i += 1\n",
    "    print(i)\n",
    "    \n",
    "print('Finished!')"
   ]
  },
  {
   "cell_type": "markdown",
   "metadata": {},
   "source": [
    "<a id=\"range\"></a>\n",
    "## range(), zip(), and emumerate(): Useful tools for loops"
   ]
  },
  {
   "cell_type": "markdown",
   "metadata": {},
   "source": [
    "#### range()"
   ]
  },
  {
   "cell_type": "code",
   "execution_count": null,
   "metadata": {},
   "outputs": [],
   "source": [
    "for item in range(0, 5):\n",
    "    print(item)"
   ]
  },
  {
   "cell_type": "markdown",
   "metadata": {},
   "source": [
    "#### zip()"
   ]
  },
  {
   "cell_type": "code",
   "execution_count": null,
   "metadata": {},
   "outputs": [],
   "source": [
    "# Iterate over multiple data structures at the same time\n",
    "\n",
    "list1 = [1, 2, 3, 4] \n",
    "list2 = [10, 11, 12, 13]\n",
    "string3 = 'abcd'\n",
    "\n",
    "for item1, item2, item3 in zip(list1, list2, string3):\n",
    "    print(item1, item2, item3)"
   ]
  },
  {
   "cell_type": "markdown",
   "metadata": {},
   "source": [
    "#### enumerate()"
   ]
  },
  {
   "cell_type": "code",
   "execution_count": null,
   "metadata": {},
   "outputs": [],
   "source": [
    "# Iterate over a data strucutre with a built-in counter\n",
    "\n",
    "myString = 'stuvwxyz'\n",
    "\n",
    "for i, item in enumerate(myString):\n",
    "    print(i, item)\n",
    "    \n",
    "\n",
    "# enumerate does exactly the same thing as this!\n",
    "#i = 0 \n",
    "#for item in myString:\n",
    "#    print(i, item)\n",
    "#    i += 1"
   ]
  },
  {
   "cell_type": "markdown",
   "metadata": {},
   "source": [
    "<a id=\"reading\"></a>\n",
    "## Reading and Writing Files"
   ]
  },
  {
   "cell_type": "markdown",
   "metadata": {},
   "source": [
    "In the following examples, the script adds <code>'hello'</code> to the end of each line in <code>'example.txt'</code>."
   ]
  },
  {
   "cell_type": "markdown",
   "metadata": {},
   "source": [
    "#### Workflow 1\n",
    "- Open a file to read\n",
    "- Do some type of manipulation to each line\n",
    "- Use a print statement to report information"
   ]
  },
  {
   "cell_type": "code",
   "execution_count": null,
   "metadata": {},
   "outputs": [],
   "source": [
    "INPUT_FILENAME = 'example.txt'\n",
    "\n",
    "with open(INPUT_FILENAME, 'r') as inFile:\n",
    "    for line in inFile:\n",
    "        line = line.strip().split('\\t')\n",
    "        line.append('hello')\n",
    "        print('\\t'.join(line))"
   ]
  },
  {
   "cell_type": "markdown",
   "metadata": {},
   "source": [
    "#### Workflow 2\n",
    "- Open a file to read AND a file to write\n",
    "- Do some type of manipulation to each line\n",
    "- Write information to a new file"
   ]
  },
  {
   "cell_type": "code",
   "execution_count": null,
   "metadata": {},
   "outputs": [],
   "source": [
    "# Option 1\n",
    "\n",
    "INPUT_FILENAME = 'example.txt'\n",
    "OUTPUT_FILENAME = 'example_hello.txt'\n",
    "\n",
    "with open(INPUT_FILENAME, 'r') as inFile, open(OUTPUT_FILENAME, 'w') as outFile:\n",
    "    for line in inFile:\n",
    "        line = line.strip().split('\\t')\n",
    "        line.append('hello')\n",
    "        outFile.write('\\t'.join(line) + '\\n')"
   ]
  },
  {
   "cell_type": "code",
   "execution_count": null,
   "metadata": {},
   "outputs": [],
   "source": [
    "# Option 2\n",
    "\n",
    "INPUT_FILENAME = 'example.txt'\n",
    "OUTPUT_FILENAME = 'example_hello.txt'\n",
    "\n",
    "with open(INPUT_FILENAME, 'r') as inFile:\n",
    "    with open(OUTPUT_FILENAME, 'w') as outFile:\n",
    "        for line in inFile:\n",
    "            line = line.strip().split('\\t')\n",
    "            line.append('hello')\n",
    "            outFile.write('\\t'.join(line) + '\\n')"
   ]
  },
  {
   "cell_type": "markdown",
   "metadata": {},
   "source": [
    "#### Workflow 3\n",
    "- Open a file to read\n",
    "- Store information in some type of data structure\n",
    "- Use that data structure to do some type of manipulation"
   ]
  },
  {
   "cell_type": "code",
   "execution_count": null,
   "metadata": {},
   "outputs": [],
   "source": [
    "INPUT_FILENAME = 'example.txt'\n",
    "\n",
    "lineList = []\n",
    "\n",
    "with open(INPUT_FILENAME, 'r') as inFile:\n",
    "    for line in inFile:\n",
    "        line = line.strip().split('\\t')\n",
    "        lineList.append(line)\n",
    "        \n",
    "#print(lineList)\n",
    "\n",
    "for item in lineList:\n",
    "    item.append('hello')\n",
    "    print('\\t'.join(item))"
   ]
  },
  {
   "cell_type": "markdown",
   "metadata": {},
   "source": [
    "<a id=\"practice\"></a>\n",
    "## Let's Practice!"
   ]
  },
  {
   "cell_type": "markdown",
   "metadata": {},
   "source": [
    "### Exercise 1"
   ]
  },
  {
   "cell_type": "code",
   "execution_count": null,
   "metadata": {},
   "outputs": [],
   "source": [
    "myList1 = ['1', '2', '3', '4', '5', '6', '7']"
   ]
  },
  {
   "cell_type": "markdown",
   "metadata": {},
   "source": [
    "Change all of the items in <code>myList1</code> to integers<br>\n",
    "By the end, you should have a variable called <code>intList</code> that is equal to <code>[1, 2, 3, 4, 5, 6, 7]</code>."
   ]
  },
  {
   "cell_type": "code",
   "execution_count": null,
   "metadata": {},
   "outputs": [],
   "source": [
    "# YOUR SOLUTION HERE\n",
    "\n"
   ]
  },
  {
   "cell_type": "markdown",
   "metadata": {},
   "source": [
    "### Exercise 2"
   ]
  },
  {
   "cell_type": "markdown",
   "metadata": {},
   "source": [
    "How many integers, floats, and strings appear in <code>myList2</code>?<br>"
   ]
  },
  {
   "cell_type": "code",
   "execution_count": null,
   "metadata": {},
   "outputs": [],
   "source": [
    "myList2 = ['apple', 'a', 1, 5, 'o', 3.4, 7.8, 5, 2, 7, 8, 1, 3.5, 6, 'a', 'hello', True, 7, 9, 3.0, 1, 5, False]"
   ]
  },
  {
   "cell_type": "code",
   "execution_count": null,
   "metadata": {},
   "outputs": [],
   "source": [
    "# YOUR SOLUTION HERE\n",
    "\n"
   ]
  },
  {
   "cell_type": "markdown",
   "metadata": {},
   "source": [
    "### Exercise 3"
   ]
  },
  {
   "cell_type": "markdown",
   "metadata": {},
   "source": [
    "The file <code>sequences.tsv</code> contains the following information:\n",
    ">- chromosome\n",
    ">- starting coordinate\n",
    ">- the DNA sequence\n",
    "\n",
    "Use <code>sequences.tsv</code> to generate a new tab-delimited file (called <code>sequences_GC_content.tsv</code>)\n",
    "that contains only sequenes with GC content below 60% and reports the following information:\n",
    ">- chromosome\n",
    ">- starting coordinate\n",
    ">- ending coordinate\n",
    ">- the DNA sequence\n",
    ">- GC content (rounded to 2 decimal places)"
   ]
  },
  {
   "cell_type": "code",
   "execution_count": null,
   "metadata": {},
   "outputs": [],
   "source": [
    "# YOUR SOLUTION HERE\n",
    "\n",
    "inFileName = 'sequences.tsv'\n",
    "outFileName = 'sequences_GC_content.tsv'\n",
    "THRESHOLD = 0.6\n",
    "\n"
   ]
  }
 ],
 "metadata": {
  "kernelspec": {
   "display_name": "Python 3",
   "language": "python",
   "name": "python3"
  },
  "language_info": {
   "codemirror_mode": {
    "name": "ipython",
    "version": 3
   },
   "file_extension": ".py",
   "mimetype": "text/x-python",
   "name": "python",
   "nbconvert_exporter": "python",
   "pygments_lexer": "ipython3",
   "version": "3.7.4"
  }
 },
 "nbformat": 4,
 "nbformat_minor": 2
}
