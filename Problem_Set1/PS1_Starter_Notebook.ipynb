{
 "cells": [
  {
   "cell_type": "code",
   "execution_count": null,
   "metadata": {},
   "outputs": [],
   "source": [
    "def read_fasta(fasta_filename):\n",
    "    '''\n",
    "    Go through file, reading one line at a time, using a\n",
    "    dictionary to store the DNA sequence for each of the FASTA\n",
    "    entries (Gavin Sherlock, November 28, 2019)\n",
    "    '''    \n",
    "    with open(fasta_filename, mode='r') as fasta_file:\n",
    "\n",
    "        sequences = {}\n",
    "        \n",
    "        for line in fasta_file:\n",
    "            line = line.rstrip()\n",
    "            if line.startswith('>'): # it's a new fasta record\n",
    "                line = line.lstrip('>')\n",
    "                sequences[line] = '' # intialize dictionary for this entry\n",
    "                currSeqName = line\n",
    "            else:\n",
    "                sequences[currSeqName] += line\n",
    "\n",
    "    return(sequences)"
   ]
  },
  {
   "cell_type": "code",
   "execution_count": null,
   "metadata": {},
   "outputs": [],
   "source": [
    "enzyme_sites = {'EcoRI': 'GAATTC', 'HindIII': 'AAGCTT',\n",
    "                'BamHI': 'GGATCC', 'HpaI': 'GTTAAC',\n",
    "                'HaeIII': 'GGCC'}\n",
    "\n",
    "cutsite_offset = {'EcoRI': 1, 'HindIII': 1, 'BamHI': 1,\n",
    "                  'HpaI': 3, 'HaeIII': 2}"
   ]
  },
  {
   "cell_type": "code",
   "execution_count": null,
   "metadata": {},
   "outputs": [],
   "source": [
    "# read_seqs is a dictionary with \n",
    "#    the key equal to the name of the DNA sequence and\n",
    "#    the value equal to the DNA sequence itself\n",
    "\n",
    "# IMPORTANT:  For this code to work, \n",
    "#    rosalind_dna.fsa and your Jupyter Notebook \n",
    "#    must be in the same folder/directory on your computer!\n",
    "fasta_filename = 'rosalind_dna.fsa'\n",
    "read_seqs = read_fasta(fasta_filename)\n",
    "read_seqs   # comment out this line once you understand the format of read_seqs!"
   ]
  },
  {
   "cell_type": "code",
   "execution_count": null,
   "metadata": {},
   "outputs": [],
   "source": [
    "# Now, you need to write your own code that uses \n",
    "#   (1) the read_seqs dictionary, \n",
    "#   (2) the enzyme_sites dictionary, and\n",
    "#   (3) the cutsite_offset dictionary\n",
    "# to complete Problem Set 1."
   ]
  },
  {
   "cell_type": "code",
   "execution_count": null,
   "metadata": {},
   "outputs": [],
   "source": []
  }
 ],
 "metadata": {
  "kernelspec": {
   "display_name": "Python 3",
   "language": "python",
   "name": "python3"
  },
  "language_info": {
   "codemirror_mode": {
    "name": "ipython",
    "version": 3
   },
   "file_extension": ".py",
   "mimetype": "text/x-python",
   "name": "python",
   "nbconvert_exporter": "python",
   "pygments_lexer": "ipython3",
   "version": "3.7.4"
  }
 },
 "nbformat": 4,
 "nbformat_minor": 2
}
