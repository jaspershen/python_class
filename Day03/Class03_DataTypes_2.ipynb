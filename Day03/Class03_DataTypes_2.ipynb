{
 "cells": [
  {
   "cell_type": "markdown",
   "metadata": {},
   "source": [
    "# BIOS-274 : November 20 : Class 3\n",
    "Data types and manipulations: dictionary, set\n",
    "\n",
    "Conditional statements:  if, elif, else, break, continue\n",
    "\n",
    "Comments and style: [https://realpython.com/python-pep8/]\n"
   ]
  },
  {
   "cell_type": "code",
   "execution_count": null,
   "metadata": {},
   "outputs": [],
   "source": [
    "# Python style\n",
    "#\n",
    "# PEP8\n",
    "# https://realpython.com/python-pep8/\n",
    "# https://www.python.org/dev/peps/pep-0008/\n",
    "#\n",
    "# Python history\n",
    "#\n",
    "# Guido van Rossum, creator in 1989. He retired last month. Final job was with Dropbox.\n",
    "# https://en.wikipedia.org/wiki/Python_(programming_language)"
   ]
  },
  {
   "cell_type": "code",
   "execution_count": null,
   "metadata": {},
   "outputs": [],
   "source": [
    "# review"
   ]
  },
  {
   "cell_type": "code",
   "execution_count": null,
   "metadata": {},
   "outputs": [],
   "source": [
    "a = 1\n",
    "b = 1.0\n",
    "c = '1'\n",
    "d = [1, 2]\n",
    "e = (1, 2)\n",
    "f = { 'x': 1, 'y': 2}\n",
    "g = {1, 2}"
   ]
  },
  {
   "cell_type": "code",
   "execution_count": null,
   "metadata": {},
   "outputs": [],
   "source": [
    "print('a =', type(a))\n",
    "print('b =', type(b))\n",
    "print('c =', type(c))\n",
    "print('d =', type(d))\n",
    "print('e =', type(e))\n",
    "print('f =', type(f))\n",
    "print('g =', type(g))"
   ]
  },
  {
   "cell_type": "code",
   "execution_count": null,
   "metadata": {},
   "outputs": [],
   "source": []
  },
  {
   "cell_type": "markdown",
   "metadata": {},
   "source": [
    "<h3>Dictionary (aka dict)</h3>"
   ]
  },
  {
   "cell_type": "code",
   "execution_count": null,
   "metadata": {},
   "outputs": [],
   "source": [
    "# key:value pair"
   ]
  },
  {
   "cell_type": "code",
   "execution_count": null,
   "metadata": {},
   "outputs": [],
   "source": [
    "#initializing an empty dictionary\n",
    "dog_d = {}\n",
    "cat_d = dict()"
   ]
  },
  {
   "cell_type": "code",
   "execution_count": null,
   "metadata": {},
   "outputs": [],
   "source": [
    "# initializing with key:values pairs\n",
    "dog_d = {'big': 3, 'small': 2, 'golden': 1, 'spotted': 1}\n",
    "clothes_d = {'shirt': 'red', 'pants': 'bluejean', 'hat': 'white'}"
   ]
  },
  {
   "cell_type": "code",
   "execution_count": null,
   "metadata": {},
   "outputs": [],
   "source": [
    "dog_d"
   ]
  },
  {
   "cell_type": "code",
   "execution_count": null,
   "metadata": {},
   "outputs": [],
   "source": [
    "# how many keys\n",
    "print('number of dog_d keys:', len(dog_d))\n",
    "print('number of clothes_d keys:', len(clothes_d))"
   ]
  },
  {
   "cell_type": "code",
   "execution_count": null,
   "metadata": {},
   "outputs": [],
   "source": [
    "# access components of a dictionary with keys\n",
    "dog_d['big']"
   ]
  },
  {
   "cell_type": "code",
   "execution_count": null,
   "metadata": {},
   "outputs": [],
   "source": [
    "dog_d['small']"
   ]
  },
  {
   "cell_type": "code",
   "execution_count": null,
   "metadata": {},
   "outputs": [],
   "source": [
    "# dictionaries are mutable\n",
    "dog_d['small'] = 4"
   ]
  },
  {
   "cell_type": "code",
   "execution_count": null,
   "metadata": {},
   "outputs": [],
   "source": [
    "dog_d"
   ]
  },
  {
   "cell_type": "code",
   "execution_count": null,
   "metadata": {},
   "outputs": [],
   "source": [
    "# using dictionary key:value\n",
    "pow(3, dog_d['small'])"
   ]
  },
  {
   "cell_type": "code",
   "execution_count": null,
   "metadata": {},
   "outputs": [],
   "source": [
    "# return the contents of the dictionary as a list of tuples\n",
    "dog_d.items()"
   ]
  },
  {
   "cell_type": "code",
   "execution_count": null,
   "metadata": {},
   "outputs": [],
   "source": [
    "print(dog_d.keys())"
   ]
  },
  {
   "cell_type": "code",
   "execution_count": null,
   "metadata": {},
   "outputs": [],
   "source": [
    "print(list(dog_d.keys())[0], type(list(dog_d.keys())[0]))"
   ]
  },
  {
   "cell_type": "code",
   "execution_count": null,
   "metadata": {},
   "outputs": [],
   "source": [
    "print(dog_d.values())"
   ]
  },
  {
   "cell_type": "code",
   "execution_count": null,
   "metadata": {},
   "outputs": [],
   "source": [
    "print(list(dog_d.values()))"
   ]
  },
  {
   "cell_type": "code",
   "execution_count": null,
   "metadata": {},
   "outputs": [],
   "source": [
    "list(dog_d.items())[1]"
   ]
  },
  {
   "cell_type": "code",
   "execution_count": null,
   "metadata": {},
   "outputs": [],
   "source": [
    "# return the items of a dictionary and case to type list\n",
    "dog_list = list(dog_d.items())"
   ]
  },
  {
   "cell_type": "code",
   "execution_count": null,
   "metadata": {},
   "outputs": [],
   "source": [
    "dog_list[1]"
   ]
  },
  {
   "cell_type": "code",
   "execution_count": null,
   "metadata": {},
   "outputs": [],
   "source": [
    "dog_list"
   ]
  },
  {
   "cell_type": "code",
   "execution_count": null,
   "metadata": {},
   "outputs": [],
   "source": [
    "type(dog_list[0])"
   ]
  },
  {
   "cell_type": "code",
   "execution_count": null,
   "metadata": {},
   "outputs": [],
   "source": [
    "print('Dog list dog_list[0][1] =', dog_list[0][1], ',', type(dog_list[0][1]))"
   ]
  },
  {
   "cell_type": "code",
   "execution_count": null,
   "metadata": {},
   "outputs": [],
   "source": [
    "# add a new key:value\n",
    "dog_d['short hair'] = 5\n",
    "dog_d"
   ]
  },
  {
   "cell_type": "code",
   "execution_count": null,
   "metadata": {},
   "outputs": [],
   "source": [
    "# update dictionary method to add or update\n",
    "dog_d.update({'long hair': 2})"
   ]
  },
  {
   "cell_type": "code",
   "execution_count": null,
   "metadata": {
    "scrolled": false
   },
   "outputs": [],
   "source": [
    "dog_d"
   ]
  },
  {
   "cell_type": "code",
   "execution_count": null,
   "metadata": {},
   "outputs": [],
   "source": [
    "# More complex data structures\n",
    "# lists as values to keys"
   ]
  },
  {
   "cell_type": "code",
   "execution_count": null,
   "metadata": {},
   "outputs": [],
   "source": [
    "pig_d = {'starts': [3, 15, 21], 'ends': [13, 20, 35]}"
   ]
  },
  {
   "cell_type": "code",
   "execution_count": null,
   "metadata": {},
   "outputs": [],
   "source": [
    "pig_d"
   ]
  },
  {
   "cell_type": "code",
   "execution_count": null,
   "metadata": {},
   "outputs": [],
   "source": [
    "# datatype for the value associated with key = 'ends'\n",
    "pig_d['ends']"
   ]
  },
  {
   "cell_type": "code",
   "execution_count": null,
   "metadata": {},
   "outputs": [],
   "source": [
    "type(pig_d['ends'])"
   ]
  },
  {
   "cell_type": "code",
   "execution_count": null,
   "metadata": {},
   "outputs": [],
   "source": [
    "# len() returns the number of keys in the dictionary\n",
    "len(pig_d)"
   ]
  },
  {
   "cell_type": "code",
   "execution_count": null,
   "metadata": {},
   "outputs": [],
   "source": [
    "# dictionary has dictionary as values\n",
    "\n",
    "# genes_d = {'genename':{'accession ID': 'abc', 'chromosome': XX, 'coordinate': [start, end]}}\n",
    "genes_d = {'RFX1':{'accession ID': 'ENSG00000132005', \n",
    "                   'chromosome': 19, \n",
    "                   'coordinate': [13961530, 14007039]\n",
    "                  }\n",
    "          }"
   ]
  },
  {
   "cell_type": "code",
   "execution_count": null,
   "metadata": {},
   "outputs": [],
   "source": [
    "genes_d"
   ]
  },
  {
   "cell_type": "code",
   "execution_count": null,
   "metadata": {},
   "outputs": [],
   "source": [
    "genes_d['RFX1']"
   ]
  },
  {
   "cell_type": "code",
   "execution_count": null,
   "metadata": {},
   "outputs": [],
   "source": [
    "genes_d['RFX1']['coordinate']"
   ]
  },
  {
   "cell_type": "code",
   "execution_count": null,
   "metadata": {},
   "outputs": [],
   "source": [
    "if 'RFX2' in genes_d:\n",
    "    print(True)\n",
    "else:\n",
    "    print(False)"
   ]
  },
  {
   "cell_type": "code",
   "execution_count": null,
   "metadata": {},
   "outputs": [],
   "source": [
    "if genes_d['RFX1']['chromosome'] == 19:\n",
    "    print('RFX1 located on chromosome', genes_d['RFX1']['chromosome'], \\\n",
    "          'at coordinate', genes_d['RFX1']['coordinate'])"
   ]
  },
  {
   "cell_type": "code",
   "execution_count": null,
   "metadata": {},
   "outputs": [],
   "source": [
    "#\n",
    "# dictionary for translating DNA\n",
    "#\n",
    "dnatoaa = {\n",
    "'GCT' : 'A', 'GCC' : 'A', 'GCA' : 'A', 'GCG' : 'A', 'TGT' : 'C', 'TGC' : 'C',\n",
    "'GAT' : 'D', 'GAC' : 'D', 'GAA' : 'E', 'GAG' : 'E', 'TTT' : 'F', 'TTC' : 'F',\n",
    "'GGT' : 'G', 'GGC' : 'G', 'GGA' : 'G', 'GGG' : 'G', 'CAT' : 'H', 'CAC' : 'H',\n",
    "'ATT' : 'I', 'ATC' : 'I', 'ATA' : 'I', 'AAA' : 'K', 'AAG' : 'K', 'TTG' : 'L',\n",
    "'TTA' : 'L', 'CTT' : 'L', 'CTC' : 'L', 'CTA' : 'L', 'CTG' : 'L', 'ATG' : 'M',\n",
    "'AAT' : 'N', 'AAC' : 'N', 'CCT' : 'P', 'CCC' : 'P', 'CCA' : 'P', 'CCG' : 'P',\n",
    "'CAA' : 'Q', 'CAG' : 'Q', 'CGT' : 'R', 'CGC' : 'R', 'CGA' : 'R', 'CGG' : 'R',\n",
    "'AGA' : 'R', 'AGG' : 'R', 'TCT' : 'S', 'TCC' : 'S', 'TCA' : 'S', 'TCG' : 'S',\n",
    "'AGT' : 'S', 'AGC' : 'S', 'ACT' : 'T', 'ACC' : 'T', 'ACA' : 'T', 'ACG' : 'T',\n",
    "'GTT' : 'V', 'GTC' : 'V', 'GTA' : 'V', 'GTG' : 'V', 'TGG' : 'W', 'TAT' : 'Y',\n",
    "'TAC' : 'Y', 'TAA' : ':', 'TAG' : ':', 'TGA' : '.'\n",
    "} "
   ]
  },
  {
   "cell_type": "code",
   "execution_count": null,
   "metadata": {},
   "outputs": [],
   "source": [
    "# Special print characters (backslash makes the t and n special)\n",
    "# TAB = \\t\n",
    "# newline = \\n"
   ]
  },
  {
   "cell_type": "code",
   "execution_count": null,
   "metadata": {},
   "outputs": [],
   "source": [
    "codon = 'CCT'\n",
    "if codon in dnatoaa:\n",
    "    print('codon = ' + str(codon) + '\\tencoding the amino acid = ' + str(dnatoaa[codon]))\n",
    "    print('\\ncodon = ' + str(codon) + '\\nencoding the amino acid = ' + str(dnatoaa[codon]))"
   ]
  },
  {
   "cell_type": "code",
   "execution_count": null,
   "metadata": {},
   "outputs": [],
   "source": []
  },
  {
   "cell_type": "code",
   "execution_count": null,
   "metadata": {},
   "outputs": [],
   "source": []
  },
  {
   "cell_type": "markdown",
   "metadata": {},
   "source": [
    "<h3>Conditional -- if, elif, else</h3>"
   ]
  },
  {
   "cell_type": "markdown",
   "metadata": {},
   "source": [
    "<code>\n",
    "if test_expression:\n",
    "    Body of if\n",
    "elif test_expression:\n",
    "    Body of elif\n",
    "else: \n",
    "    Body of else\n",
    "</code>"
   ]
  },
  {
   "cell_type": "code",
   "execution_count": null,
   "metadata": {},
   "outputs": [],
   "source": [
    "tomato_color = 'green'\n",
    "#tomato_color = 'red'\n",
    "#tomato_color = 'yellow'\n",
    "\n",
    "if tomato_color == 'red':\n",
    "    print('The tomato is ready to harvest')\n",
    "elif tomato_color == 'green':\n",
    "    print('tomato is not ripe')\n",
    "else:\n",
    "    print('tomato color is', tomato_color)"
   ]
  },
  {
   "cell_type": "code",
   "execution_count": null,
   "metadata": {},
   "outputs": [],
   "source": [
    "DNA_string = 'AGCTTGAGT'\n",
    "\n",
    "if len(DNA_string) % 3 != 0:\n",
    "    print('DNA sequence is not multiple of three')\n",
    "else:\n",
    "    print('There are', len(DNA_string)/3, 'codons')\n",
    "    # make a change so the number of codons is an integer not a float"
   ]
  },
  {
   "cell_type": "code",
   "execution_count": null,
   "metadata": {},
   "outputs": [],
   "source": [
    "# change the print statement to output # of codons as int"
   ]
  },
  {
   "cell_type": "code",
   "execution_count": null,
   "metadata": {},
   "outputs": [],
   "source": [
    "x = 9\n",
    "\n",
    "if x ** 2 == 81:\n",
    "    print('yes on first')\n",
    "elif x ** 3 == 729:\n",
    "    print('yes on second')\n",
    "else:\n",
    "    print('else')\n",
    "\n",
    "print('\\nafter if/elif/else')"
   ]
  },
  {
   "cell_type": "code",
   "execution_count": null,
   "metadata": {},
   "outputs": [],
   "source": [
    "if 1 == 1 or 2 != 1:\n",
    "    print('yes')\n",
    "else:\n",
    "    print('no')"
   ]
  },
  {
   "cell_type": "code",
   "execution_count": null,
   "metadata": {},
   "outputs": [],
   "source": []
  },
  {
   "cell_type": "markdown",
   "metadata": {},
   "source": [
    "<h1>Sets</h1>"
   ]
  },
  {
   "cell_type": "code",
   "execution_count": null,
   "metadata": {},
   "outputs": [],
   "source": [
    "# non-redundant ordered, mutable"
   ]
  },
  {
   "cell_type": "code",
   "execution_count": null,
   "metadata": {},
   "outputs": [],
   "source": [
    "a_set = {1, 2, 4, 'cat', 'dog', 9, 5, 10.5, 4, 2, 7, 6, 9, 9}\n",
    "print(type(a_set), a_set)"
   ]
  },
  {
   "cell_type": "code",
   "execution_count": null,
   "metadata": {},
   "outputs": [],
   "source": [
    "a_set"
   ]
  },
  {
   "cell_type": "code",
   "execution_count": null,
   "metadata": {},
   "outputs": [],
   "source": [
    "a2_tuple = (10, 1, 2, 9, 3, 12, 12, 16, 20)\n",
    "print(type(a2_tuple), a2_tuple)\n",
    "a2_set = set(a2_tuple)\n",
    "print(type(a_set), a2_set)"
   ]
  },
  {
   "cell_type": "code",
   "execution_count": null,
   "metadata": {},
   "outputs": [],
   "source": [
    "type(a2_set)"
   ]
  },
  {
   "cell_type": "code",
   "execution_count": null,
   "metadata": {},
   "outputs": [],
   "source": [
    "a2_set"
   ]
  },
  {
   "cell_type": "code",
   "execution_count": null,
   "metadata": {},
   "outputs": [],
   "source": [
    "# Combination all elements. Union of sets.\n",
    "a3_set = a_set.union(a2_set)\n",
    "print('a_set =',a_set)\n",
    "print('a2_set =',a2_set)\n",
    "print('a3_set =',a3_set)"
   ]
  },
  {
   "cell_type": "code",
   "execution_count": null,
   "metadata": {},
   "outputs": [],
   "source": [
    "# Whats in common. Intersection between sets. \n",
    "a4_set = a_set.intersection(a2_set)\n",
    "print('a_set =',a_set)\n",
    "print('a2_set =',a2_set)\n",
    "print('a4_set =',a4_set)"
   ]
  },
  {
   "cell_type": "code",
   "execution_count": null,
   "metadata": {},
   "outputs": [],
   "source": [
    "# add to set\n",
    "a_set.add(11)\n",
    "print(a_set)"
   ]
  },
  {
   "cell_type": "code",
   "execution_count": null,
   "metadata": {},
   "outputs": [],
   "source": [
    "# remove from set\n",
    "a_set.remove('dog')\n",
    "print(a_set)"
   ]
  },
  {
   "cell_type": "code",
   "execution_count": null,
   "metadata": {},
   "outputs": [],
   "source": []
  },
  {
   "cell_type": "code",
   "execution_count": null,
   "metadata": {},
   "outputs": [],
   "source": [
    "# using 'in'"
   ]
  },
  {
   "cell_type": "code",
   "execution_count": null,
   "metadata": {},
   "outputs": [],
   "source": [
    "# is key in dictionary?\n",
    "if 'golden' in dog_d:\n",
    "    print('I found a golden dog')"
   ]
  },
  {
   "cell_type": "code",
   "execution_count": null,
   "metadata": {},
   "outputs": [],
   "source": [
    "# is key in dictionary?\n",
    "a_key = 'small'\n",
    "if a_key in dog_d:\n",
    "    print('found', a_key, 'in', dog_d)\n",
    "else:\n",
    "    print('didn\\'t find', a_key, 'in', dog_d )"
   ]
  },
  {
   "cell_type": "code",
   "execution_count": null,
   "metadata": {
    "scrolled": true
   },
   "outputs": [],
   "source": [
    "# test which values are True and False\n",
    "# The rule: What is True? Anything that is not False!\n",
    "values = [False, None, 0, 0.0, \"\", '', [], {}, (), True, 'str', \"0\", -1, 3, 1000, '\\'\\'']\n",
    "\n",
    "for v in values:\n",
    "    if (v):\n",
    "        print(\"True : \", v)\n",
    "    else:\n",
    "        print(\"False: \", v)"
   ]
  },
  {
   "cell_type": "code",
   "execution_count": null,
   "metadata": {},
   "outputs": [],
   "source": [
    "# for loop over all keys in dictionary\n",
    "for key in dog_d:\n",
    "    print(key)"
   ]
  },
  {
   "cell_type": "code",
   "execution_count": null,
   "metadata": {},
   "outputs": [],
   "source": [
    "# element in list\n",
    "an_element = 'Hi'\n",
    "some_list = [4, 5, 7, 8, 9, 'Hi']\n",
    "if an_element in some_list:\n",
    "    print('found', an_element)"
   ]
  },
  {
   "cell_type": "code",
   "execution_count": null,
   "metadata": {},
   "outputs": [],
   "source": [
    "# finding character(s) in a string\n",
    "some_str = 'The Hat'\n",
    "a_char = 'z'\n",
    "print('There are', some_str.find(a_char), 'characters in', some_str)\n",
    "if some_str.find(a_char) > -1:\n",
    "    print('\\nFound \\'' + str(a_char) + '\\' in \\'' + str(some_str) + '\\'')\n",
    "else:\n",
    "    print('\\nDidn\\'t find \\'' + str(a_char) + '\\' in \\'' + str(some_str) + '\\'')"
   ]
  },
  {
   "cell_type": "code",
   "execution_count": null,
   "metadata": {},
   "outputs": [],
   "source": [
    "# use this function for PS1"
   ]
  },
  {
   "cell_type": "markdown",
   "metadata": {},
   "source": [
    "<h3>read_fasta() function</h3>\n",
    "\n",
    "fasta file format\n",
    "\n",
    "<code>\n",
    ">Example_Sequence-1\n",
    "TCGGGACAGCTTGTTGCCCCATCCATGGGGGTCTGCTCTAAGACCCTTTAATAATAGCGG\n",
    "TTATTTTCGCAGGCAGGCACTGATCCTTAATACGGAAGCTACAACCCACAATCTGCCTAG\n",
    "CCGTGATAAACCTTCGCCCCGTGCCTGGTCTACCATCTACTCAGGAAGTTGACCGGTCGG\n",
    "TTACCTACCTCATGGCGTATGATTGTCCCGGACAGTGCTCCTATGGCTTGGAACCTAACG\n",
    "CTCACGGGTTGCTAT\n",
    ">Example_Sequence-2\n",
    "CTACCGAGAGGTGCCGTCAAATTCTGCCTTTAACCCCCACATGTAGCTCAGTAACTGAGC\n",
    "GGCTTGACGGCCCAGGTGCAGAGACGTACGATGCGTGAGCCTGCACAATAACCCACCATT\n",
    "TAGACCATTCAAAAGCTTCCAGACAGTCTAGCTCGAAGAAATTT\n",
    "</code>"
   ]
  },
  {
   "cell_type": "code",
   "execution_count": null,
   "metadata": {},
   "outputs": [],
   "source": [
    "#currSeqName = '' # just for testing\n",
    "#linecount = 0 # just for testing\n",
    "\n",
    "#linecount += 1 # just for testing\n",
    "\n",
    "#if linecount < 22 or linecount > 100: # just for testing\n",
    "#    print(line, '*' + str(currSeqName) + '*') # just for testing\n",
    "#if linecount == 22: # just for testing\n",
    "#    print('*********************') # just for testing\n"
   ]
  },
  {
   "cell_type": "code",
   "execution_count": null,
   "metadata": {},
   "outputs": [],
   "source": [
    "def read_fasta(fasta_filename):\n",
    "    '''\n",
    "    Go through file, reading one line at a time, using a\n",
    "    dictionary to store the DNA sequence for each of the FASTA\n",
    "    entries (Gavin Sherlock, November 28, 2019)\n",
    "    '''    \n",
    "    with open(fasta_filename, mode='r') as fasta_file:\n",
    "\n",
    "        sequences = {}\n",
    "        \n",
    "        for line in fasta_file:\n",
    "            line = line.rstrip()\n",
    "            if line.startswith('>'): # it's a new fasta record\n",
    "                line = line.lstrip('>')\n",
    "                sequences[line] = '' # intialize dictionary for this entry\n",
    "                currSeqName = line\n",
    "            else:\n",
    "                sequences[currSeqName] += line\n",
    "\n",
    "    return(sequences)"
   ]
  },
  {
   "cell_type": "code",
   "execution_count": null,
   "metadata": {},
   "outputs": [],
   "source": [
    "read_seqs = read_fasta('rosalind_dna.fsa')\n",
    "print('Read', len(read_seqs), 'sequences')"
   ]
  },
  {
   "cell_type": "code",
   "execution_count": null,
   "metadata": {},
   "outputs": [],
   "source": [
    "read_seqs.keys()"
   ]
  },
  {
   "cell_type": "code",
   "execution_count": null,
   "metadata": {},
   "outputs": [],
   "source": [
    "for key in read_seqs:\n",
    "    print('Sequence', key, 'is has', len(read_seqs[key]), 'nt')"
   ]
  },
  {
   "cell_type": "code",
   "execution_count": null,
   "metadata": {},
   "outputs": [],
   "source": [
    "read_seqs['Rosalind_6820']"
   ]
  },
  {
   "cell_type": "raw",
   "metadata": {},
   "source": []
  }
 ],
 "metadata": {
  "kernelspec": {
   "display_name": "Python 3",
   "language": "python",
   "name": "python3"
  },
  "language_info": {
   "codemirror_mode": {
    "name": "ipython",
    "version": 3
   },
   "file_extension": ".py",
   "mimetype": "text/x-python",
   "name": "python",
   "nbconvert_exporter": "python",
   "pygments_lexer": "ipython3",
   "version": "3.7.3"
  }
 },
 "nbformat": 4,
 "nbformat_minor": 2
}
