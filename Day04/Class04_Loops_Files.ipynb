{
 "cells": [
  {
   "cell_type": "markdown",
   "metadata": {},
   "source": [
    "# BIOS-274 : November 21 : Class 4\n",
    "\n",
    "Loops:  for, while, break, continue<br>\n",
    "Reading and writing files<br>\n",
    "formating output<br>\n",
    "range(), enumerate(), zip()"
   ]
  },
  {
   "cell_type": "code",
   "execution_count": null,
   "metadata": {},
   "outputs": [],
   "source": []
  },
  {
   "cell_type": "code",
   "execution_count": null,
   "metadata": {},
   "outputs": [],
   "source": [
    "# using set to find the unique letters in a string\n",
    "\n",
    "# create a new empty dictionary\n",
    "nt_count = {}\n",
    "\n",
    "# get a set of unique characters in our DNA string\n",
    "\n",
    "dna = 'GTACCNTTGATTTCGTATTCTGAGAGGCTGCTGCTTAGCGGTAGCCCCTTGGTTTCCGTGGCAACGGAAAA'\n",
    "unique = set(dna)\n",
    "\n",
    "print('unique nt: ', unique) ## {'C', 'A', 'G', 'T', 'N'}\n",
    "\n",
    "# iterate through each unique nucleotide\n",
    "for nt in unique:\n",
    "  # count the number of this unique nt in dna\n",
    "  count = dna.count(nt)\n",
    "\n",
    "  # add our count to our dict\n",
    "  nt_count[nt] = count\n",
    "\n",
    "print('nt count:', nt_count)"
   ]
  },
  {
   "cell_type": "code",
   "execution_count": null,
   "metadata": {},
   "outputs": [],
   "source": [
    "# Common question.\n",
    "# You have a method to identify genes that are significantly different quanification\n",
    "# values from the average in RNA-seq results.\n",
    "# Which genes are unique between experiments? \n",
    "# Which set of genes are unique between a large set of results and a new tissue sample?"
   ]
  },
  {
   "cell_type": "code",
   "execution_count": null,
   "metadata": {},
   "outputs": [],
   "source": []
  },
  {
   "cell_type": "code",
   "execution_count": null,
   "metadata": {},
   "outputs": [],
   "source": [
    "# for loop using range()"
   ]
  },
  {
   "cell_type": "code",
   "execution_count": null,
   "metadata": {},
   "outputs": [],
   "source": [
    "animal_list = ['ewe', 'cat', 'dog', 'pig', 'hog', 'bat', 'cow', \n",
    "               'ant', 'fox', 'rat', 'yak', 'ram', 'ape']"
   ]
  },
  {
   "cell_type": "code",
   "execution_count": null,
   "metadata": {},
   "outputs": [],
   "source": [
    "print('Number of items in list:', len(animal_list))"
   ]
  },
  {
   "cell_type": "code",
   "execution_count": null,
   "metadata": {},
   "outputs": [],
   "source": [
    "# typical generator of integers for loop operation\n",
    "for animal_i in range(len(animal_list)):\n",
    "    print(animal_i, animal_list[animal_i])"
   ]
  },
  {
   "cell_type": "code",
   "execution_count": null,
   "metadata": {},
   "outputs": [],
   "source": [
    "# can use in many variations : range(start, stop, step)\n",
    "for animal_i in range(len(animal_list)-1, -1, -1):\n",
    "    print(animal_i, animal_list[animal_i])"
   ]
  },
  {
   "cell_type": "code",
   "execution_count": null,
   "metadata": {},
   "outputs": [],
   "source": [
    "# jumping through with a defined step\n",
    "for animal_i in range(0, len(animal_list), 2):\n",
    "    print(animal_i, animal_list[animal_i])"
   ]
  },
  {
   "cell_type": "code",
   "execution_count": null,
   "metadata": {},
   "outputs": [],
   "source": [
    "# slice of list before len()\n",
    "for animal_i in range(len(animal_list[3:7])):\n",
    "    print(animal_i, animal_list[animal_i])"
   ]
  },
  {
   "cell_type": "code",
   "execution_count": null,
   "metadata": {},
   "outputs": [],
   "source": [
    "# typical ways to obtain sequence of numbers, used in for loops\n",
    "# calculate the differences between numbers using range() or enumerate()"
   ]
  },
  {
   "cell_type": "code",
   "execution_count": null,
   "metadata": {},
   "outputs": [],
   "source": [
    "# enumerate(), generate an integer for each value in a list"
   ]
  },
  {
   "cell_type": "code",
   "execution_count": null,
   "metadata": {},
   "outputs": [],
   "source": [
    "print(list(enumerate(animal_list)))"
   ]
  },
  {
   "cell_type": "code",
   "execution_count": null,
   "metadata": {},
   "outputs": [],
   "source": [
    "# define list of numbers\n",
    "numbers = [5, 7, 6, 5, 0, 1, 2, 9, 5, 6, 2, 8, 8, 7, 8, 9, 3, 3, 8]\n",
    "deltas = []"
   ]
  },
  {
   "cell_type": "code",
   "execution_count": null,
   "metadata": {},
   "outputs": [],
   "source": [
    "# start at 1 so the second part of the delta calculation is 0\n",
    "# range is like slicing, the end number is one more than what it generates.\n",
    "# Said another way, range does not include the *end* number\n",
    "\n",
    "print('number of items in the list numbers =', len(numbers), \n",
    "      '\\nrange output =', list(range(1,len(numbers))))"
   ]
  },
  {
   "cell_type": "code",
   "execution_count": null,
   "metadata": {},
   "outputs": [],
   "source": [
    "# enumerate() example\n",
    "print(numbers, '\\n')\n",
    "\n",
    "#print(enumerate(numbers), end='\\n\\n')\n",
    "#print(list(enumerate(numbers)))\n",
    "\n",
    "#for i, number in enumerate(numbers):\n",
    "#    print(i, number)"
   ]
  },
  {
   "cell_type": "code",
   "execution_count": null,
   "metadata": {},
   "outputs": [],
   "source": [
    "# calculate difference by defining index\n",
    "print('numbers  :', numbers)\n",
    "\n",
    "for i in range(1, len(numbers)):\n",
    "    delta = numbers[i] - numbers[i - 1]\n",
    "    deltas.append(delta)\n",
    "print('range    :', deltas)"
   ]
  },
  {
   "cell_type": "code",
   "execution_count": null,
   "metadata": {},
   "outputs": [],
   "source": [
    "# calculate difference by using result of enumerate()\n",
    "deltas = []\n",
    "\n",
    "for i, number in enumerate(numbers[1:]):\n",
    "    delta = number - numbers[i]\n",
    "    deltas.append(delta)\n",
    "print('enumerate:', deltas)"
   ]
  },
  {
   "cell_type": "code",
   "execution_count": null,
   "metadata": {},
   "outputs": [],
   "source": []
  },
  {
   "cell_type": "code",
   "execution_count": null,
   "metadata": {},
   "outputs": [],
   "source": [
    "# global vs local variables\n",
    "\n",
    "def set_local_x_to_five():\n",
    "  print('Inside def')\n",
    "  x = 5 # local to set_local_x_to_five()\n",
    "  y = 5\n",
    "  print(\"x =\", x)\n",
    "  print(\"y =\", y)\n",
    "\n",
    "print('After def')\n",
    "x = 100 # global x\n",
    "y = 100 # global\n",
    "print('x=', x)\n",
    "print('y=', y)\n",
    "\n",
    "set_local_x_to_five()\n",
    "print('After function call')\n",
    "print('x=', x)\n",
    "print('y=', y)"
   ]
  },
  {
   "cell_type": "code",
   "execution_count": null,
   "metadata": {},
   "outputs": [],
   "source": []
  },
  {
   "cell_type": "code",
   "execution_count": null,
   "metadata": {},
   "outputs": [],
   "source": [
    "# if, elif, else\n",
    "\n",
    "for x in range(1, 51):\n",
    "    if (x % 3 == 0) and (x % 5 == 0):\n",
    "        print('FizzBuzz')\n",
    "    elif x % 3 == 0:\n",
    "        print('Fizz')\n",
    "    elif x % 5 == 0:\n",
    "        print('Buzz')\n",
    "    else:\n",
    "        print(x)\n"
   ]
  },
  {
   "cell_type": "code",
   "execution_count": null,
   "metadata": {},
   "outputs": [],
   "source": []
  },
  {
   "cell_type": "code",
   "execution_count": null,
   "metadata": {},
   "outputs": [],
   "source": [
    "# zip two lists together to make a dictionary or array of tuples\n",
    "\n",
    "numbers = [1, 2, 3]\n",
    "letters = ['a', 'b', 'c']\n",
    "new_d = dict(zip(numbers, letters))\n",
    "print('new_d', new_d)\n",
    "new_l = list(zip(numbers, letters))\n",
    "print('new_l', new_l)"
   ]
  },
  {
   "cell_type": "code",
   "execution_count": null,
   "metadata": {},
   "outputs": [],
   "source": [
    "# can use range, as its just making a list of integers\n",
    "\n",
    "animal_dict = dict(zip(range(len(animal_list)), animal_list))\n",
    "print(animal_dict)"
   ]
  },
  {
   "cell_type": "code",
   "execution_count": null,
   "metadata": {},
   "outputs": [],
   "source": []
  },
  {
   "cell_type": "code",
   "execution_count": null,
   "metadata": {},
   "outputs": [],
   "source": [
    "# .format\n",
    "\n",
    "# Type\tMeaning\n",
    "# d\tDecimal integer\n",
    "# c\tCorresponding Unicode character\n",
    "# b\tBinary format\n",
    "# o\tOctal format\n",
    "# x\tHexadecimal format (lower case)\n",
    "# X\tHexadecimal format (upper case)\n",
    "# n\tSame as 'd'. Except it uses current locale setting for number separator\n",
    "# e\tExponential notation. (lowercase e)\n",
    "# E\tExponential notation (uppercase E)\n",
    "# f\tDisplays fixed point number (Default: 6)\n",
    "# F\tSame as 'f'. Except displays 'inf' as 'INF' and 'nan' as 'NAN'\n",
    "# g\tGeneral format. Rounds number to p significant digits. (Default precision: 6)\n",
    "# G\tSame as 'g'. Except switches to 'E' if the number is large.\n",
    "# %\tPercentage. Multiples by 100 and puts % at the end."
   ]
  },
  {
   "cell_type": "code",
   "execution_count": null,
   "metadata": {},
   "outputs": [],
   "source": [
    "# writing a file with FizzBuzz results\n",
    "\n",
    "with open('test_file.txt', mode='w') as test_fh:\n",
    "    for x in range(1, 101):\n",
    "        if (x % 3 == 0) and (x % 5 == 0):\n",
    "            test_fh.write('{0:3d}\\t{1:s}\\n'.format(x, 'FizzBuzz'))\n",
    "        elif x % 3 == 0:\n",
    "            test_fh.write('{0:3d}\\t{1:s}\\n'.format(x, 'Fizz'))\n",
    "        elif x % 5 == 0:\n",
    "            test_fh.write('{0:3d}\\t{1:s}\\n'.format(x, 'Buzz'))\n",
    "        else:\n",
    "            test_fh.write('{0:3d}\\n'.format(x))"
   ]
  },
  {
   "cell_type": "code",
   "execution_count": null,
   "metadata": {},
   "outputs": [],
   "source": []
  },
  {
   "cell_type": "code",
   "execution_count": null,
   "metadata": {},
   "outputs": [],
   "source": []
  },
  {
   "cell_type": "code",
   "execution_count": null,
   "metadata": {},
   "outputs": [],
   "source": [
    "# Find most common letter used by Skakespeare\n",
    "# load the complete file into a string\n",
    "\n",
    "FILENAME = 'shakespeare.txt'\n",
    "\n",
    "with open(FILENAME, mode='r') as Shake_File:\n",
    "    ShakespeareFileText = Shake_File.read()\n",
    "#    ShakespeareFileText = Shake_File.read().upper()\n",
    "\n",
    "print('Size of {0:s} is {1:,d}'.format(FILENAME, len(ShakespeareFileText)))\n",
    "\n",
    "#print(ShakespeareFileText[:300])\n",
    "\n",
    "## ShakespeareFileText will be a single string holding the full text of\n",
    "## the file (\"shakespeare.txt\")"
   ]
  },
  {
   "cell_type": "code",
   "execution_count": null,
   "metadata": {},
   "outputs": [],
   "source": [
    "# the characters to search for in the text\n",
    "ALPHABET = 'ABCDEFGHIJKLMNOPQRSTUVWXYZabcdefghigklmnopqrstuvwxyz'\n",
    "\n",
    "## Convert the ALPHABET string 'ABC...' into a list of characters \n",
    "## ['A', 'B', 'C', ...]\n",
    "AlphList = list(ALPHABET)\n",
    "\n",
    "#print(AlphList)\n",
    "\n",
    "## Start with an empty list of counts\n",
    "IncidenceList = []\n",
    "\n",
    "for char in AlphList:\n",
    "    # Do the this code block for every item in AlphList\n",
    "    # Count number of occurrences of character in ShakespeareFileText.\n",
    "    #\n",
    "    # Append count to IncidenceList\n",
    "    IncidenceList.append(ShakespeareFileText.count(char))\n",
    "\n",
    "# how else could this have been done?\n",
    "# make a dictionary with char:count\n",
    "\n",
    "#print(IncidenceList)\n",
    "\n",
    "# Useful function: For any list of numbers max(List) is the largest\n",
    "# value in the list\n",
    "MaxAlpha = max(IncidenceList)\n",
    "\n",
    "# two possible ways to find the character associated with MaxAlpha\n",
    "# initialize counter for the number of times through the for loop\n",
    "char_count = 0\n",
    "if MaxAlpha in IncidenceList:\n",
    "    for list_item in IncidenceList:\n",
    "        if MaxAlpha == list_item:\n",
    "            print('The character found most often is \\'{0:s}\\' with {1:,d} occurances'\n",
    "                  .format(ALPHABET[char_count], list_item))\n",
    "        char_count += 1\n",
    "else:\n",
    "    print('Error MaxAlpha not found in IncidenceList!')\n",
    "\n",
    "print('The character found most often is \\'{0:s}\\' with {1:,d} occurances'\n",
    "      .format(ALPHABET[IncidenceList.index(MaxAlpha)], MaxAlpha))"
   ]
  },
  {
   "cell_type": "code",
   "execution_count": null,
   "metadata": {},
   "outputs": [],
   "source": [
    "\n"
   ]
  },
  {
   "cell_type": "code",
   "execution_count": null,
   "metadata": {},
   "outputs": [],
   "source": [
    "# Parse bionet restriction enzyme data file\n",
    "#\n",
    "\n",
    "# *** FORMAT of file ***\n",
    "#\n",
    "# last line of header starts with '..'\n",
    "\n",
    "# EXAMPLE of enzyme file:\n",
    "# enz  cut rec seq  overhang  isoscizomers         commer            refs\n",
    "\n",
    "'''\n",
    ";AanI\t3\tTTA'TAA\t0\t!\tPsiI\t>B\t1089\n",
    "AarI\t11\tCACCTGCnnnn'nnnn_\t4\t!\t>B\t368,662\n",
    ";AasI\t7\tGACnn_nn'nnGTC\t-2\t!\tDrdI,DseDI\t>B\t495\n",
    "AatII\t5\tG_ACGT'C\t-4\t!\tZraI\t>BIKMNV\t293,294,1002\n",
    ";Aba6411II\t3\tCrrTAAG\t0\t?\t!\t>\t680\n",
    "'''\n",
    "\n",
    "FILENAME = 'rebase_gcgenz.txt'\n",
    "\n",
    "header_flag = False\n",
    "end_of_header_start = '..'\n",
    "enz_count = 0\n",
    "enz_dict = {}\n",
    "\n",
    "with open(FILENAME, 'r') as rebase_f:\n",
    "    for line in rebase_f:\n",
    "        if header_flag and len(line) > 30 and ';' not in line[0:10]:\n",
    "            cols = line.rstrip('\\n').split('\\t')\n",
    "            # data line\n",
    "            enz_name = cols[0]\n",
    "            enz_cut = cols[1]\n",
    "            enz_seq = cols[2].replace('\\'', '').replace('_','')\n",
    "            enz_overhang = int(cols[3])\n",
    "            enz_dict[enz_name] = [enz_cut, enz_seq, enz_overhang, cols[2]]\n",
    "            enz_count += 1\n",
    "        if line.startswith(end_of_header_start):\n",
    "            # found last line of header\n",
    "            header_flag = True\n",
    "\n",
    "print('Read rebase_gcgenz.txt. Loaded', enz_count, 'enzymes.\\n')\n",
    "\n",
    "find_these = ['EcoRI', 'HindIII', 'HaeIII']\n",
    "\n",
    "\n",
    "output_str = ''\n",
    "#output_str = 'Enzyme\\tCut\\tSeq\\tOver\\tSummary\\n'\n",
    "\n",
    "for enz in enz_dict:\n",
    "    if enz in find_these:\n",
    "        output_str += ('\\nEnzyme: {0:s}\\n\\tCut {1:d}\\tSeq {2:s}\\tOverhang {3:d}\\tSummary {4:s}'\n",
    "                        .format(enz, int(enz_dict[enz][0]), enz_dict[enz][1], \n",
    "                         enz_dict[enz][2], enz_dict[enz][3]))\n",
    "#        output_str += ('{0:s}\\t{1:d}\\t{2:s}\\t{3:d}\\t{4:s}\\n'\n",
    "#                        .format(enz, int(enz_dict[enz][0]), enz_dict[enz][1], \n",
    "#                         enz_dict[enz][2], enz_dict[enz][3]))\n",
    "\n",
    "\n",
    "print(output_str)"
   ]
  },
  {
   "cell_type": "code",
   "execution_count": null,
   "metadata": {},
   "outputs": [],
   "source": [
    "# Type\tMeaning<br>\n",
    "# <\tLeft aligned to the remaining space<br>\n",
    "# ^\tCenter aligned to the remaining space<br>\n",
    "# >\tRight aligned to the remaining space<br>\n",
    "# =\tForces the signed (+) (-) to the leftmost position\n",
    "\n",
    "# https://www.programiz.com/python-programming/methods/string/format"
   ]
  },
  {
   "cell_type": "code",
   "execution_count": null,
   "metadata": {},
   "outputs": [],
   "source": [
    "print('Enzyme:')\n",
    "for item, value in enz_dict.items():\n",
    "    #print('{} ({})'.format(item, '\\t'.join(list(value) )))\n",
    "    print('{0:8s}\\t{1:>2s}\\t{2:^25s}\\t{3:>2d}\\t{4}\\n'\n",
    "          .format(item, value[0], value[1], value[2], value[3]), end='')"
   ]
  },
  {
   "cell_type": "code",
   "execution_count": null,
   "metadata": {},
   "outputs": [],
   "source": [
    "# reverse complement a DNA sequence\n",
    "\n",
    "sequence_string = 'CGCGGGCGTAGTTAGTTCCTCACCAGAACGTCATTTGGTCCTCATCAATC'\n",
    "base_complement_dict = {'A': 'T', 'C': 'G', 'G': 'C', 'T': 'A'}"
   ]
  },
  {
   "cell_type": "code",
   "execution_count": null,
   "metadata": {},
   "outputs": [],
   "source": [
    "rev = []\n",
    "\n",
    "for i in range(len(sequence_string),0,-1):\n",
    "    rev.append(base_complement_dict[sequence_string[i-1]])\n",
    "\n",
    "revcomp = ''.join(rev)\n",
    "\n",
    "print ('input   : 5\\'-' + sequence_string + '-3\\'')\n",
    "print ()\n",
    "print ('revcomp : 5\\'-' + revcomp + '-3\\'')"
   ]
  },
  {
   "cell_type": "code",
   "execution_count": null,
   "metadata": {},
   "outputs": [],
   "source": [
    "# print both strands\n",
    "\n",
    "print ('input   : 5\\'-' + sequence_string + '-3\\'')\n",
    "print ('revcomp : 3\\'-' + revcomp[::-1] + '-5\\'')"
   ]
  },
  {
   "cell_type": "code",
   "execution_count": null,
   "metadata": {},
   "outputs": [],
   "source": []
  },
  {
   "cell_type": "code",
   "execution_count": null,
   "metadata": {},
   "outputs": [],
   "source": [
    "#from random import random\n",
    "import random"
   ]
  },
  {
   "cell_type": "code",
   "execution_count": null,
   "metadata": {},
   "outputs": [],
   "source": [
    "for x in range(10):\n",
    "    print(random.random())"
   ]
  },
  {
   "cell_type": "code",
   "execution_count": null,
   "metadata": {},
   "outputs": [],
   "source": [
    "# random.random, is it random\n",
    "\n",
    "flips = pow(10,4)\n",
    "\n",
    "for outer_loop in range(1, 10):\n",
    "    heads = 0\n",
    "    tails = 0\n",
    "    count = 0\n",
    "    round_head = 0\n",
    "    int_head = 0\n",
    "    for inner_loop in range(flips):\n",
    "        roll = random.random()\n",
    "        if round(roll,2) >= .5:\n",
    "            round_head += 1\n",
    "        if roll >= .5:\n",
    "            int_head += 1\n",
    "        if round(roll,2) >= .5:\n",
    "            heads += 1\n",
    "        else:\n",
    "            tails += 1\n",
    "        count += 1\n",
    "\n",
    "    #print('h = ' + str(heads), 't = ' + str(tails), 'count = ' + str(count),\n",
    "    #      't% = ' + str(round(tails/count, 4)), sep='\\t\\t')\n",
    "    \n",
    "    print('h = {0:4d}\\tt = {1:4d}\\tcount = {2:5d}\\tt% = {3:.2f}'\n",
    "          .format(heads, tails, count, round((tails/count)*100)))"
   ]
  },
  {
   "cell_type": "code",
   "execution_count": null,
   "metadata": {},
   "outputs": [],
   "source": []
  },
  {
   "cell_type": "code",
   "execution_count": null,
   "metadata": {},
   "outputs": [],
   "source": [
    "# continue & break\n",
    "count = -1\n",
    "while True:\n",
    "    count+=1\n",
    "    print(\"count:\" , count)\n",
    "    if count == 3:\n",
    "        continue\n",
    "    if count == 6:\n",
    "        break\n",
    "    print(\"line after our continue\")\n",
    "print(\"Done\")"
   ]
  },
  {
   "cell_type": "code",
   "execution_count": null,
   "metadata": {},
   "outputs": [],
   "source": []
  },
  {
   "cell_type": "code",
   "execution_count": null,
   "metadata": {},
   "outputs": [],
   "source": [
    "a = 2 # 3, 2, 2\n",
    "b = 5 # 4, 3, 5 \n",
    "c = True\n",
    "d = False\n",
    "\n",
    "while a == 2:\n",
    "    print('\\n0: begining\\t', a, b, c, d)\n",
    "    if b > 4:\n",
    "        print('1: break\\t', a, b, c, d)\n",
    "        break\n",
    "    if c:\n",
    "        print('2: Truth\\t', a, b, c, d)\n",
    "        c = False\n",
    "        continue\n",
    "    elif not d:\n",
    "        print('3: elif\\t\\t', a, b, c, d)\n",
    "        c = True\n",
    "        d = True\n",
    "    else:\n",
    "        b += 1\n",
    "        a += 1\n",
    "    print ('4: after if\\t', a, b, c, d)\n",
    "else:\n",
    "    print('\\n5: exiting\\t', a, b, c, d)"
   ]
  },
  {
   "cell_type": "code",
   "execution_count": null,
   "metadata": {},
   "outputs": [],
   "source": []
  },
  {
   "cell_type": "code",
   "execution_count": null,
   "metadata": {},
   "outputs": [],
   "source": [
    "def read_fasta(fasta_filename):\n",
    "    '''\n",
    "    Go through file, reading one line at a time, using a\n",
    "    dictionary to store the DNA sequence for each of the FASTA\n",
    "    entries (Gavin Sherlock, November 28, 2019)\n",
    "    '''    \n",
    "    with open(fasta_filename, mode='r') as fasta_file:\n",
    "\n",
    "        sequences = {}\n",
    "\n",
    "        for line in fasta_file:\n",
    "            line = line.rstrip()\n",
    "            if line.startswith('>'): # it's a new fasta record\n",
    "                line = line.lstrip('>') #line = line[1:]\n",
    "                sequences[line] = '' # intialize dictionary for this entry\n",
    "                currSeqName = line\n",
    "            else:\n",
    "                sequences[currSeqName] += line\n",
    "\n",
    "    return(sequences)"
   ]
  },
  {
   "cell_type": "code",
   "execution_count": null,
   "metadata": {},
   "outputs": [],
   "source": [
    "sequences = read_fasta('rosalind_dna.fsa')"
   ]
  },
  {
   "cell_type": "code",
   "execution_count": null,
   "metadata": {},
   "outputs": [],
   "source": [
    "# find all ATGs in sequence\n",
    "for seq in sequences:\n",
    "    atg_index = 0\n",
    "    last_index = 0\n",
    "    start_stop = []\n",
    "    if seq != 'Rosalind_6820':\n",
    "        continue\n",
    "    while(atg_index > -1):\n",
    "        atg_index = sequences[seq].find('ATG', atg_index + 1)\n",
    "        if (atg_index > -1):\n",
    "            print('found ATG in', seq, 'at', atg_index)        "
   ]
  },
  {
   "cell_type": "code",
   "execution_count": null,
   "metadata": {},
   "outputs": [],
   "source": [
    "for seq in sequences:\n",
    "    atg_index = 0\n",
    "    last_index = 0\n",
    "    start_stop = []\n",
    "    if seq != 'Rosalind_6820':\n",
    "        continue\n",
    "    while(atg_index > -1):\n",
    "        atg_index = sequences[seq].find('ATG', atg_index + 1)\n",
    "        if (atg_index > -1):\n",
    "            for codon_i in range(atg_index + 3, len(sequences[seq])-3, 3):\n",
    "                if sequences[seq][codon_i:codon_i+3] in ['TAA', 'TAG', 'TGA']:\n",
    "                    print(seq, ': start =', atg_index, 'end =', codon_i+3, \n",
    "                          'nt length =', codon_i + 3 - atg_index, \n",
    "                          'aa length =', (codon_i - atg_index) / 3)\n",
    "                    print(sequences[seq][atg_index:codon_i+3], '\\n')\n",
    "                    atg_index = codon_i+3\n",
    "                    break"
   ]
  },
  {
   "cell_type": "code",
   "execution_count": null,
   "metadata": {},
   "outputs": [],
   "source": [
    "def read_fasta_test(fasta_filename):\n",
    "    '''\n",
    "    Go through file, reading one line at a time, using a\n",
    "    dictionary to store the DNA sequence for each of the FASTA\n",
    "    entries (Gavin Sherlock, November 28, 2019)\n",
    "    \n",
    "    Remove all lines that end with '# just for testing' after \n",
    "    you understand what this function is doing\n",
    "    '''    \n",
    "    with open(fasta_filename, mode='r') as fasta_file:\n",
    "\n",
    "        sequences = {}\n",
    "        currSeqName = '' # just for testing\n",
    "        linecount = 0 # just for testing\n",
    "        \n",
    "        for line in fasta_file:\n",
    "            line = line.rstrip()\n",
    "            linecount += 1 # just for testing\n",
    "            print(line, '|', currSeqName, '|', linecount) # just for testing 2\n",
    "            input('next:') # just for testing 2\n",
    "            if line.startswith('>'): # it's a new fasta record\n",
    "                line = line.lstrip('>') #line = line[1:]\n",
    "                sequences[line] = '' # intialize dictionary for this entry\n",
    "                currSeqName = line\n",
    "            else:\n",
    "                sequences[currSeqName] += line\n",
    "\n",
    "    return(sequences)"
   ]
  },
  {
   "cell_type": "code",
   "execution_count": null,
   "metadata": {},
   "outputs": [],
   "source": [
    "#read_seqs = read_fasta_test('rosalind_dna.fsa')\n",
    "#print('Read', len(read_seqs), 'sequences')"
   ]
  },
  {
   "cell_type": "code",
   "execution_count": null,
   "metadata": {},
   "outputs": [],
   "source": []
  }
 ],
 "metadata": {
  "kernelspec": {
   "display_name": "Python 3",
   "language": "python",
   "name": "python3"
  },
  "language_info": {
   "codemirror_mode": {
    "name": "ipython",
    "version": 3
   },
   "file_extension": ".py",
   "mimetype": "text/x-python",
   "name": "python",
   "nbconvert_exporter": "python",
   "pygments_lexer": "ipython3",
   "version": "3.7.4"
  }
 },
 "nbformat": 4,
 "nbformat_minor": 2
}
