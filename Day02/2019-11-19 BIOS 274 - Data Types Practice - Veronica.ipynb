{
 "cells": [
  {
   "cell_type": "markdown",
   "metadata": {},
   "source": [
    "# Data Types"
   ]
  },
  {
   "cell_type": "markdown",
   "metadata": {},
   "source": [
    "**11/19/2019<br>\n",
    "BIOS 274: Introductory Python Programming for Genomics**<br>"
   ]
  },
  {
   "cell_type": "markdown",
   "metadata": {},
   "source": [
    "## Table of Contents"
   ]
  },
  {
   "cell_type": "markdown",
   "metadata": {},
   "source": [
    "1. [Python data types](#data types)<br>\n",
    ">- [Integers and Floats](#int)<br>\n",
    ">- [Strings](#str)<br>\n",
    ">- [Lists and Tuples](#list)<br>\n",
    ">- [Booleans](#bool)<br>\n",
    "\n",
    "2. [Converting between data types](#convert)<br>\n",
    "3. [Let's practice!](#practice)"
   ]
  },
  {
   "cell_type": "markdown",
   "metadata": {},
   "source": [
    "<a id=\"data types\"></a>\n",
    "# Python data types"
   ]
  },
  {
   "cell_type": "markdown",
   "metadata": {},
   "source": [
    "#### **IMMUTABLE**\n",
    "- <code>integer</code>&emsp;&emsp;&emsp;&emsp;      <code>a = 2</code><br>\n",
    "- <code>float</code>&emsp;&emsp;&emsp;&emsp;&emsp;&ensp;        <code>b = 2.0</code><br>\n",
    "- <code>string</code>&emsp;&emsp;&emsp;&emsp;&ensp;&ensp;       <code>c = 'this is my string'</code><br>\n",
    "- <code>tuple</code>&emsp;&emsp;&emsp;&emsp;&emsp;&ensp;       <code>d = (1, 2, 3, 4)</code><br>\n",
    "- <code>boolean</code>&emsp;&emsp;&emsp;&emsp;      <code>e = True</code><br>\n",
    "\n",
    "#### **MUTABLE**\n",
    "- <code>list</code>&emsp;&emsp;&emsp;&emsp;&emsp;&emsp;&ensp;         <code>f = [1, 2, 3, 4]</code><br>\n",
    "- <code>dictionary</code>&emsp;&emsp;   <code>g = {'one': 1, 'two', 2}</code> &emsp;&emsp;&emsp;&emsp;&emsp;&emsp;&emsp;&emsp;&ensp;&ensp;(didn't cover today)<br>\n",
    "- <code>set</code>&emsp;&emsp;&emsp;&emsp;&emsp;&emsp;&emsp;         <code>h = set([1, 1, 1, 1, 2, 2, 3, 3, 4])</code> (didn't cover today)"
   ]
  },
  {
   "cell_type": "markdown",
   "metadata": {},
   "source": [
    "<a id=\"int\"></a>\n",
    "### Integers (int) and Floats (IMMUTABLE)"
   ]
  },
  {
   "cell_type": "code",
   "execution_count": null,
   "metadata": {},
   "outputs": [],
   "source": [
    "x = 2   # this is an integer\n",
    "y = 2.0 # this is a float\n",
    "\n",
    "# Add +\n",
    "# Subract -\n",
    "# Multipy *\n",
    "# Divide / or //\n",
    "# Power **, pow(9, .5)\n",
    "\n",
    "# Modulo (remainder) %\n",
    "print(20 % 3) # 20 / 3 = 6 with remainder 2, so this returns 2\n",
    "\n",
    "# Absolute value\n",
    "print(abs(-5))\n",
    "\n",
    "# Square root\n",
    "import math\n",
    "print(math.sqrt(9))"
   ]
  },
  {
   "cell_type": "markdown",
   "metadata": {},
   "source": [
    "BEFORE RUNNING THIS CELL, TRY TO PREDICT THE OUTPUT!"
   ]
  },
  {
   "cell_type": "code",
   "execution_count": null,
   "metadata": {},
   "outputs": [],
   "source": [
    "# += -+ *= /= **=\n",
    "\n",
    "# i += 1 is equivalent to i = i + 1\n",
    "# i *= 5 is equivalent to i = i * 5\n",
    "\n",
    "i = 5\n",
    "print(i)\n",
    "\n",
    "i += 1\n",
    "print(i)\n",
    "\n",
    "i += 1\n",
    "print(i)\n",
    "\n",
    "i *= 2\n",
    "print(i)"
   ]
  },
  {
   "cell_type": "markdown",
   "metadata": {},
   "source": [
    "<a id=\"str\"></a>\n",
    "### Strings (str) (IMMUTABLE)"
   ]
  },
  {
   "cell_type": "code",
   "execution_count": null,
   "metadata": {},
   "outputs": [],
   "source": [
    "z = 'abcddd' # this is a string"
   ]
  },
  {
   "cell_type": "code",
   "execution_count": null,
   "metadata": {},
   "outputs": [],
   "source": [
    "# Concatonate and multipy\n",
    "print(z+z)\n",
    "print(z*3)"
   ]
  },
  {
   "cell_type": "code",
   "execution_count": null,
   "metadata": {},
   "outputs": [],
   "source": [
    "# Index\n",
    "print(z[0])\n",
    "print(z[2])"
   ]
  },
  {
   "cell_type": "code",
   "execution_count": null,
   "metadata": {},
   "outputs": [],
   "source": [
    "# Slice\n",
    "print(z[1:3])\n",
    "print(z[:3])\n",
    "print(z[::-1]) # reverses a string"
   ]
  },
  {
   "cell_type": "code",
   "execution_count": null,
   "metadata": {},
   "outputs": [],
   "source": [
    "# Upper case or lower case\n",
    "print(z.upper()) # z.lower()"
   ]
  },
  {
   "cell_type": "code",
   "execution_count": null,
   "metadata": {},
   "outputs": [],
   "source": [
    "# Ask if a string starts with or ends with another string\n",
    "\n",
    "print(z.startswith('abc')) # True\n",
    "print(z.startswith('x')) # False\n",
    "print()\n",
    "\n",
    "print(z.endswith('dd')) # True\n",
    "print(z.endswith('xyz')) # False"
   ]
  },
  {
   "cell_type": "code",
   "execution_count": null,
   "metadata": {},
   "outputs": [],
   "source": [
    "# Find index\n",
    "print(z.find('c'))\n",
    "print(z.index('c'))"
   ]
  },
  {
   "cell_type": "code",
   "execution_count": null,
   "metadata": {},
   "outputs": [],
   "source": [
    "# Count number of occurances\n",
    "print(z.count('b'))\n",
    "print(z.count('d'))"
   ]
  },
  {
   "cell_type": "code",
   "execution_count": null,
   "metadata": {},
   "outputs": [],
   "source": [
    "# Find length\n",
    "print(len(z))"
   ]
  },
  {
   "cell_type": "markdown",
   "metadata": {},
   "source": [
    "<a id=\"list\"></a>\n",
    "### Lists (MUTABLE) and Tuples (IMMUTABLE)"
   ]
  },
  {
   "cell_type": "code",
   "execution_count": null,
   "metadata": {},
   "outputs": [],
   "source": [
    "y = (1,2,3,4) # this is a tuple (immutable)\n",
    "z = [1,2,3,4] # this is a list (mutable)"
   ]
  },
  {
   "cell_type": "code",
   "execution_count": null,
   "metadata": {},
   "outputs": [],
   "source": [
    "# Concatonate and multiply\n",
    "print(z+z)\n",
    "print(z*3)"
   ]
  },
  {
   "cell_type": "code",
   "execution_count": null,
   "metadata": {},
   "outputs": [],
   "source": [
    "# Index\n",
    "print(z[2])"
   ]
  },
  {
   "cell_type": "code",
   "execution_count": null,
   "metadata": {},
   "outputs": [],
   "source": [
    "# Find index\n",
    "print(z.index(2))"
   ]
  },
  {
   "cell_type": "code",
   "execution_count": null,
   "metadata": {},
   "outputs": [],
   "source": [
    "# Slice\n",
    "print(z[1:3])\n",
    "print(z[::-1]) # reverses list"
   ]
  },
  {
   "cell_type": "code",
   "execution_count": null,
   "metadata": {},
   "outputs": [],
   "source": [
    "# Lists are mutable, so items can be added (tuples are immutable so items cannot be added)\n",
    "\n",
    "z.append(5) # add one item at a time with append()\n",
    "print(z)\n",
    "\n",
    "z.extend([6, 7]) # add many items at a time with extend()\n",
    "print(z)"
   ]
  },
  {
   "cell_type": "code",
   "execution_count": null,
   "metadata": {},
   "outputs": [],
   "source": [
    "# Lists are mutable and can be edited (tuples are immutable and can't be edited)\n",
    "z[2] = 9\n",
    "print(z)"
   ]
  },
  {
   "cell_type": "code",
   "execution_count": null,
   "metadata": {},
   "outputs": [],
   "source": [
    "# Count number of occurances\n",
    "print(z.count(2))"
   ]
  },
  {
   "cell_type": "code",
   "execution_count": null,
   "metadata": {},
   "outputs": [],
   "source": [
    "# Find length\n",
    "print(len(z))"
   ]
  },
  {
   "cell_type": "code",
   "execution_count": null,
   "metadata": {},
   "outputs": [],
   "source": [
    "# Find maximum and minimum\n",
    "print(max(z))\n",
    "print(min(z))"
   ]
  },
  {
   "cell_type": "code",
   "execution_count": null,
   "metadata": {},
   "outputs": [],
   "source": [
    "# Find the sum of all integers and floats in a list or tuple\n",
    "print(sum(z))"
   ]
  },
  {
   "cell_type": "code",
   "execution_count": null,
   "metadata": {},
   "outputs": [],
   "source": [
    "# Index lists/tuples within lists/tuples\n",
    "a = ['a', 'b', 'c', ('x', 'y')]\n",
    "print(a[3][1])"
   ]
  },
  {
   "cell_type": "markdown",
   "metadata": {},
   "source": [
    "<a id=\"bool\"></a>\n",
    "### Booleans (bool) (IMMUTABLE)"
   ]
  },
  {
   "cell_type": "code",
   "execution_count": null,
   "metadata": {},
   "outputs": [],
   "source": [
    "# True and False\n",
    "# \"Everything that isn't False is True\"\n",
    "# The False things:  0, 0.0, '', [], () ,{}, False , None"
   ]
  },
  {
   "cell_type": "code",
   "execution_count": null,
   "metadata": {},
   "outputs": [],
   "source": [
    "# >\n",
    "# <\n",
    "# >=\n",
    "# <=\n",
    "# ==     # because the single equals sign is taken already!\n",
    "# !=     # not equal to\n",
    "# and\n",
    "# or\n",
    "# in\n",
    "# not in"
   ]
  },
  {
   "cell_type": "code",
   "execution_count": null,
   "metadata": {},
   "outputs": [],
   "source": [
    "print(4 == 4) # True\n",
    "print(4 != 4) # False\n",
    "print(5 > 7) # False\n",
    "print(9 <= 9) # True\n",
    "print()\n",
    "\n",
    "print(4 == 4 and 3 == 3) # True\n",
    "print(4 == 4 and 3 != 3) # False\n",
    "print(4 == 4 or 3 != 3) # True\n",
    "print(0 > 4 or 8 >= 7) # True\n",
    "print()\n",
    "\n",
    "print(5 in [1, 2, 3, 4, 5]) # True\n",
    "print(5 in [1, 2, 3, 4]) # False\n",
    "print(5 not in [1, 2, 3, 4, 5]) # False\n",
    "print(5 not in [1, 2, 3, 4]) # True\n",
    "print()\n",
    "\n",
    "if 0.0 == False:\n",
    "    print('0.0 is False')\n",
    "    \n",
    "# better but maybe confusing\n",
    "if not 0.0:\n",
    "    print('0.0 is False')"
   ]
  },
  {
   "cell_type": "markdown",
   "metadata": {},
   "source": [
    "<a id=\"convert\"></a>\n",
    "## Converting between data types"
   ]
  },
  {
   "cell_type": "code",
   "execution_count": null,
   "metadata": {},
   "outputs": [],
   "source": [
    "myInt = 4\n",
    "myFloat = 4.368\n",
    "myString = 'abcd'\n",
    "myList = ['1', '2', '3']"
   ]
  },
  {
   "cell_type": "code",
   "execution_count": null,
   "metadata": {},
   "outputs": [],
   "source": [
    "# Check the type of the variable using type()\n",
    "print(type(myInt))\n",
    "print(type(myFloat))\n",
    "print(type(myString))\n",
    "print(type(myList))"
   ]
  },
  {
   "cell_type": "code",
   "execution_count": null,
   "metadata": {},
   "outputs": [],
   "source": [
    "# Simple ways to convert ints and floats using float(), int(), str()\n",
    "print(float(myInt))\n",
    "print(int(myFloat))\n",
    "print(str(myFloat))"
   ]
  },
  {
   "cell_type": "code",
   "execution_count": null,
   "metadata": {},
   "outputs": [],
   "source": [
    "# Convert from a list to a string using .join()\n",
    "print(''.join(myList))\n",
    "print(' '.join(myList))\n",
    "print('\\t'.join(myList)) # \\t is how you indicate tabs\n",
    "print('\\n'.join(myList)) # \\n is how you indicate new lines (enters)"
   ]
  },
  {
   "cell_type": "code",
   "execution_count": null,
   "metadata": {},
   "outputs": [],
   "source": [
    "# Convert a string to a list using list() or .split()\n",
    "print(list(myString))\n",
    "\n",
    "myNewString = '1-2-3' # ['1', '2', '3']\n",
    "print(myNewString.split('-'))\n",
    "\n",
    "myNewString2 = '1 2 3'\n",
    "print(myNewString2.split(' '))"
   ]
  },
  {
   "cell_type": "markdown",
   "metadata": {},
   "source": [
    "<a id=\"practice\"></a>\n",
    "## Let's practice!"
   ]
  },
  {
   "cell_type": "markdown",
   "metadata": {},
   "source": [
    "### Exercise 1"
   ]
  },
  {
   "cell_type": "code",
   "execution_count": null,
   "metadata": {},
   "outputs": [],
   "source": [
    "myList1 = [1, 2, 3, 4, 5, 6]"
   ]
  },
  {
   "cell_type": "markdown",
   "metadata": {},
   "source": [
    "**1.a.** Without initializing any new variables and only using <code>myList1</code>, print out <code>[4, 5, 6, 1, 2, 3]</code>"
   ]
  },
  {
   "cell_type": "code",
   "execution_count": null,
   "metadata": {},
   "outputs": [],
   "source": [
    "# YOUR SOLUTION HERE\n"
   ]
  },
  {
   "cell_type": "markdown",
   "metadata": {},
   "source": [
    "**1.b.** Without initializing any new variables and only using <code>myList1</code>, print out <code>[4, 5, 6, 3, 2, 1]</code>"
   ]
  },
  {
   "cell_type": "code",
   "execution_count": null,
   "metadata": {},
   "outputs": [],
   "source": [
    "# YOUR SOLUTION HERE\n"
   ]
  },
  {
   "cell_type": "markdown",
   "metadata": {},
   "source": [
    "### Exercise 2"
   ]
  },
  {
   "cell_type": "code",
   "execution_count": null,
   "metadata": {},
   "outputs": [],
   "source": [
    "myList2 = ['This', 'is', 'BIOS274.', ['It is a', 'fun class!']]"
   ]
  },
  {
   "cell_type": "markdown",
   "metadata": {},
   "source": [
    "**2.a.** Without initializing any new variables and only using <code>myList2</code>, print out <code>'2'</code>."
   ]
  },
  {
   "cell_type": "code",
   "execution_count": null,
   "metadata": {},
   "outputs": [],
   "source": [
    "# YOUR SOLUTION HERE\n"
   ]
  },
  {
   "cell_type": "markdown",
   "metadata": {},
   "source": [
    "**2.b.** Print out only <code>'fun class!'</code>."
   ]
  },
  {
   "cell_type": "code",
   "execution_count": null,
   "metadata": {},
   "outputs": [],
   "source": [
    "# YOUR SOLUTION HERE\n"
   ]
  },
  {
   "cell_type": "markdown",
   "metadata": {},
   "source": [
    "**2.c.** Print out <code>'This is BIOS274. It is a fun class!'</code>"
   ]
  },
  {
   "cell_type": "code",
   "execution_count": null,
   "metadata": {},
   "outputs": [],
   "source": [
    "# YOUR SOLUTION HERE\n"
   ]
  },
  {
   "cell_type": "markdown",
   "metadata": {},
   "source": [
    "### Exercise 3"
   ]
  },
  {
   "cell_type": "markdown",
   "metadata": {},
   "source": [
    "Calulate the sum of the 3rd and the 5th numbers in the list below and append the result to the end of the <code>myList3</code>."
   ]
  },
  {
   "cell_type": "code",
   "execution_count": null,
   "metadata": {},
   "outputs": [],
   "source": [
    "myList3 = ['4', '6', '2', '1', '8', '7', '3']"
   ]
  },
  {
   "cell_type": "code",
   "execution_count": null,
   "metadata": {},
   "outputs": [],
   "source": [
    "# YOUR SOLUTION HERE\n"
   ]
  },
  {
   "cell_type": "markdown",
   "metadata": {},
   "source": [
    "### Exercise 4"
   ]
  },
  {
   "cell_type": "markdown",
   "metadata": {},
   "source": [
    "**4.a.** What percentage of the items in <code>myList4</code> is equal to <code>3</code>?<br>\n",
    "**4.b.** What percentage of the items in <code>myList4</code> is equal to <code>4</code>?<br>\n",
    "**4.c.** What percentage of the items in <code>myList4</code> is equal to <code>5</code>?<br>"
   ]
  },
  {
   "cell_type": "code",
   "execution_count": null,
   "metadata": {},
   "outputs": [],
   "source": [
    "myList4 = [3, 3, 4, 4, 4, 3, 5, 4, 4, 4, 5, 5, 5, 4, 5, 3, 5, 4, 3, 3, 4, 3, 5, 4, 3, 3, 5, 3, 4, 4, 4, 4, 3, 5]"
   ]
  },
  {
   "cell_type": "code",
   "execution_count": null,
   "metadata": {},
   "outputs": [],
   "source": [
    "# YOUR SOLUTION HERE\n"
   ]
  },
  {
   "cell_type": "markdown",
   "metadata": {},
   "source": [
    "### Exercise 5"
   ]
  },
  {
   "cell_type": "markdown",
   "metadata": {},
   "source": [
    "**5.a.** Using only <code>myString1</code> and without initializing any new variables, print out: <code>['ab', 'ab', 'ab', 'ab', 'ab', 'ab']</code><br> \n",
    "**5.b.** Using only <code>myString1</code> and without initializing any new variables, print out: <code>'bCbC'</code><br>\n",
    "<br>\n",
    "Try to solve **5.a** and **5.b.** in multiple ways."
   ]
  },
  {
   "cell_type": "code",
   "execution_count": null,
   "metadata": {},
   "outputs": [],
   "source": [
    "myString1 = 'abCabCab'"
   ]
  },
  {
   "cell_type": "code",
   "execution_count": null,
   "metadata": {},
   "outputs": [],
   "source": [
    "# YOUR SOLUTION HERE\n"
   ]
  },
  {
   "cell_type": "markdown",
   "metadata": {},
   "source": [
    "### Exercise 6"
   ]
  },
  {
   "cell_type": "markdown",
   "metadata": {},
   "source": [
    "Find the index of the second <code>'a'</code> in <code>myString2</code>.\n",
    "> Try using <code>s.index()</code>!<br>\n",
    "> Try using <code>s.replace()</code>!<br>\n",
    "> Try using slicing!"
   ]
  },
  {
   "cell_type": "code",
   "execution_count": null,
   "metadata": {},
   "outputs": [],
   "source": [
    "myString2 = 'BBnBBBBBaCCCCCaDDDDDDDnDDDDDaEnEE'"
   ]
  },
  {
   "cell_type": "code",
   "execution_count": null,
   "metadata": {},
   "outputs": [],
   "source": [
    "# YOUR SOLUTION HERE\n"
   ]
  },
  {
   "cell_type": "markdown",
   "metadata": {},
   "source": [
    "### Exercise 7"
   ]
  },
  {
   "cell_type": "markdown",
   "metadata": {},
   "source": [
    "**7.a.** Which of these three homeobox transcription factors will bind to the sequence defined in <code>seq1</code>?\n",
    "\n",
    ">- <code>CRX</code> recognizes <code>TAATCC</code><br>\n",
    ">- <code>DBX1</code> recognizes <code>ATTAATTA</code> or <code>TTTAATTA</code><br>\n",
    ">- <code>PKNOX2</code> recognizes <code>TGACAGCTGTCA</code> or <code>TGACAGGTGTCA</code><br>"
   ]
  },
  {
   "cell_type": "markdown",
   "metadata": {},
   "source": [
    "Please print the name of the transcription factor followed by <code>True</code> if it will bind or <code>False</code> if it will not bind as shown below.<br>\n",
    "\n",
    "\n",
    "<code>CRX:     True\n",
    " DBX1:\tFalse\n",
    " PKNOX2:  True\n",
    "</code>"
   ]
  },
  {
   "cell_type": "code",
   "execution_count": null,
   "metadata": {},
   "outputs": [],
   "source": [
    "seq1 = 'gGgctAatCcaccCCccagtacCcAcatgacaGgtGtcaccctagcTtaAtcccCgccatcgatcaaccttTagC'"
   ]
  },
  {
   "cell_type": "code",
   "execution_count": null,
   "metadata": {},
   "outputs": [],
   "source": [
    "# YOUR SOLUTION HERE\n"
   ]
  },
  {
   "cell_type": "markdown",
   "metadata": {},
   "source": [
    "**7.b** Do all three of these transcription factors bind <code>seq2</code>?  Print <code>True</code> if they all do and <code>False</code> if not.<br>\n",
    "**7.c** Do all three bind <code>seq3</code>?"
   ]
  },
  {
   "cell_type": "code",
   "execution_count": null,
   "metadata": {},
   "outputs": [],
   "source": [
    "seq2 = 'gGgctTaaTCccCccagtacCcAcaTttAaTtatGtcaCcctagcTgacagCTgtcacgCCatcgatcaaccttTagC'\n",
    "seq3 = 'ggtatatccggccgataATtatatAagcgcgccccTgaCAgcTgtCAtaatatcgatcgatcaGGagcggctatAtagcgcgcGatcagcagcctcga'"
   ]
  },
  {
   "cell_type": "code",
   "execution_count": null,
   "metadata": {},
   "outputs": [],
   "source": [
    "# YOUR SOLUTION HERE\n"
   ]
  },
  {
   "cell_type": "markdown",
   "metadata": {},
   "source": [
    "### Exercise 8"
   ]
  },
  {
   "cell_type": "markdown",
   "metadata": {},
   "source": [
    "**8.a.** How many integers appear in <code>myList5</code>?<br>\n",
    "**8.b.** How many floats appear in <code>myList5</code>?<br>\n",
    "**8.c.** How many integers appear in <code>myList5</code>?"
   ]
  },
  {
   "cell_type": "code",
   "execution_count": null,
   "metadata": {},
   "outputs": [],
   "source": [
    "myList5 = ['apple', 'a', 1, 5, 'o', 3.4, 7.8, 5, 2, 7, 8, 1, 3.5, 6, 'a', 'hello', True, 7, 9, 3.0, 1, 5, False]"
   ]
  },
  {
   "cell_type": "code",
   "execution_count": null,
   "metadata": {},
   "outputs": [],
   "source": [
    "# YOUR SOLUTION HERE\n",
    "\n",
    "# Start with this code.\n",
    "\n",
    "# You won't actually need to print each item in the list, \n",
    "#     so comment out the print statement once you understand the code.\n",
    "\n",
    "for item in myList5:\n",
    "    print(item)"
   ]
  }
 ],
 "metadata": {
  "kernelspec": {
   "display_name": "Python 3",
   "language": "python",
   "name": "python3"
  },
  "language_info": {
   "codemirror_mode": {
    "name": "ipython",
    "version": 3
   },
   "file_extension": ".py",
   "mimetype": "text/x-python",
   "name": "python",
   "nbconvert_exporter": "python",
   "pygments_lexer": "ipython3",
   "version": "3.6.4"
  }
 },
 "nbformat": 4,
 "nbformat_minor": 2
}
