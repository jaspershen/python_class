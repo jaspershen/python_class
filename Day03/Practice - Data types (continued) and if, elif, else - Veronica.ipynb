{
 "cells": [
  {
   "cell_type": "markdown",
   "metadata": {},
   "source": [
    "# Practice: Data types (continued) and if, elif, else"
   ]
  },
  {
   "cell_type": "markdown",
   "metadata": {},
   "source": [
    "**11/20/2019<br>\n",
    "BIOS 274: Introductory Python Programming for Genomics**<br>"
   ]
  },
  {
   "cell_type": "markdown",
   "metadata": {},
   "source": [
    "## Table of Contents\n",
    "1. [Style: How to write readable code](#style)<br>\n",
    "2. [Python data types (continued)](#data types continued)\n",
    ">- [Dictionaries](#dictionary)<br>\n",
    ">- [Sets](#set)<br>\n",
    "3. [if, elif, else](#if, elif, else)\n",
    "4. [Let's practice!](#practice)"
   ]
  },
  {
   "cell_type": "markdown",
   "metadata": {},
   "source": [
    "<a id=\"style\"></a>\n",
    "## Style: How to write readable code\n",
    "### Think about others and your future self!"
   ]
  },
  {
   "cell_type": "markdown",
   "metadata": {},
   "source": [
    "**1. Use meaningful variable names.**\n",
    ">- s and c are not meaningful\n",
    ">- seq and count are meaningful\n",
    "\n",
    "**2. When possible, define variables (and import libraries) at the top of your script.**<br>\n",
    "\n",
    "**3. Comment generously.**<br>\n",
    ">- This will both help other people interepret your code more easily and<br>\n",
    "help YOU remember what you did when you look at your code two years later :)<br>\n",
    "\n",
    "**4. Use either tabs or spaces.**<br>\n",
    ">- Do not mix the two.<br>\n",
    ">- If you choose to use spaces, 4 spaces is generally considered equivalent to 1 tab.<br>\n",
    "\n",
    "**5. Avoid \"hard coding\" constants into your scripts**.<br>\n",
    ">- Store them in a variable instead.<br>\n",
    ">- This allows for more flexible code that is more easily reused / repurposed.<br>\n",
    "\n",
    "**6. Variable names for constants are generally in all caps.**<br>\n",
    ">i.e. FILENAME = 'shakespeare.txt'<br>\n",
    "\n",
    "**7. Do not use python key words (i.e. in, and)<br>\n",
    "     or existing functions (i.e. dict, str, sum) as variable names.**<br>\n",
    "\n",
    "**8. Make sure you're using Python3, not Python2.**<br>\n",
    ">There are differences that could \"break\" your code when we try to run/grade it!<br>\n",
    "\n",
    "**9. There should be a blank line at the bottom of all your Python scripts.**<br>\n",
    "\n",
    "**10. Don't make lines excessively long.**<br>\n",
    ">- For example, if you're writing a long comment, simply split the comment onto multiple lines.<br>\n",
    ">- 72 characters should be the absolute maximum per line.<br>\n",
    "\n",
    "**11. The official python style guide is here:  https://www.python.org/dev/peps/pep-0008/**"
   ]
  },
  {
   "cell_type": "markdown",
   "metadata": {},
   "source": [
    "<a id=\"data types continued\"></a>\n",
    "## Python data types (continued)"
   ]
  },
  {
   "cell_type": "markdown",
   "metadata": {},
   "source": [
    "#### **IMMUTABLE**\n",
    "- <code>integer</code>&emsp;&emsp;&emsp;&emsp;      <code>a = 2</code><br>\n",
    "- <code>float</code>&emsp;&emsp;&emsp;&emsp;&emsp;&ensp;        <code>b = 2.0</code><br>\n",
    "- <code>string</code>&emsp;&emsp;&emsp;&emsp;&ensp;&ensp;       <code>c = 'this is my string'</code><br>\n",
    "- <code>tuple</code>&emsp;&emsp;&emsp;&emsp;&emsp;&ensp;       <code>d = (1, 2, 3, 4)</code><br>\n",
    "- <code>boolean</code>&emsp;&emsp;&emsp;&emsp;      <code>e = True</code><br>\n",
    "\n",
    "#### **MUTABLE**\n",
    "- <code>list</code>&emsp;&emsp;&emsp;&emsp;&emsp;&emsp;&ensp;         <code>f = [1, 2, 3, 4]</code><br>\n",
    "- <code>dictionary</code>&emsp;&emsp;   <code>g = {'one': 1, 'two', 2}</code> &emsp;&emsp;&emsp;&emsp;&emsp;&emsp;&emsp;&emsp;&ensp;&ensp;<br>\n",
    "- <code>set</code>&emsp;&emsp;&emsp;&emsp;&emsp;&emsp;&emsp;         <code>h = set([1, 1, 1, 1, 2, 2, 3, 3, 4])</code>"
   ]
  },
  {
   "cell_type": "markdown",
   "metadata": {},
   "source": [
    "<a id=\"dictionary\"></a>\n",
    "### Dictionaries (dict) (MUTABLE)\n",
    "Keys must be immutable (i.e. keys can't be lists, dictionaries, or sets)"
   ]
  },
  {
   "cell_type": "code",
   "execution_count": null,
   "metadata": {},
   "outputs": [],
   "source": [
    "# d = {key1:value1, key2:value2, key3:value3}\n",
    "\n",
    "# Option 1\n",
    "d = {'one':'apple', 'two':'banana', 'three':'peach'} # this is a dictionary\n",
    "\n",
    "# Option 2\n",
    "d = dict(one='apple', two='banana', three='peach')# this is another way to initialize the same dictionary\n",
    "\n",
    "print(d)"
   ]
  },
  {
   "cell_type": "code",
   "execution_count": null,
   "metadata": {},
   "outputs": [],
   "source": [
    "# Get value from key\n",
    "print(d['two'])"
   ]
  },
  {
   "cell_type": "code",
   "execution_count": null,
   "metadata": {},
   "outputs": [],
   "source": [
    "# Add stuff to dictionary\n",
    "d['four'] = 'pear'\n",
    "d.update({'five':'orange'})\n",
    "print(d)"
   ]
  },
  {
   "cell_type": "code",
   "execution_count": null,
   "metadata": {},
   "outputs": [],
   "source": [
    "# Delete stuff from dictionary\n",
    "del d['two']\n",
    "print(d)"
   ]
  },
  {
   "cell_type": "code",
   "execution_count": null,
   "metadata": {},
   "outputs": [],
   "source": [
    "# Get all the keys\n",
    "print(list(d.keys()))"
   ]
  },
  {
   "cell_type": "code",
   "execution_count": null,
   "metadata": {},
   "outputs": [],
   "source": [
    "# Get all the values\n",
    "print(list(d.values()))"
   ]
  },
  {
   "cell_type": "code",
   "execution_count": null,
   "metadata": {},
   "outputs": [],
   "source": [
    "# Can be useful to iterate over keys and values at the same time\n",
    "for key, value in d.items():\n",
    "    print(key, value)"
   ]
  },
  {
   "cell_type": "markdown",
   "metadata": {},
   "source": [
    "<a id=\"set\"></a>\n",
    "### Sets (set) (MUTABLE)\n",
    "Each item within the set must be immutable (sets can't contain lists, dictionaries, or other sets)"
   ]
  },
  {
   "cell_type": "code",
   "execution_count": null,
   "metadata": {},
   "outputs": [],
   "source": [
    "s1 = set([1, 1, 3, 4, 2, 1, 3, 5]) # This is a set\n",
    "s2 = set([1, 1, 4, 7, 10, 3, 4])   # This is another set\n",
    "\n",
    "print(s1)\n",
    "print(s2)"
   ]
  },
  {
   "cell_type": "code",
   "execution_count": null,
   "metadata": {},
   "outputs": [],
   "source": [
    "# Find the union of 2 sets (all items in both sets)\n",
    "print(s1.union(s2))\n",
    "\n",
    "# Find the intersection of 2 sets (only items appearing in both sets)\n",
    "print(s1.intersection(s2))\n",
    "\n",
    "# Find items unique to a particular set\n",
    "print(s1.difference(s2))"
   ]
  },
  {
   "cell_type": "code",
   "execution_count": null,
   "metadata": {},
   "outputs": [],
   "source": [
    "# Add a value to a set\n",
    "s1.add(15)\n",
    "print(s1)\n",
    "\n",
    "# Remove a value from a set\n",
    "s1.remove(1)\n",
    "print(s1)"
   ]
  },
  {
   "cell_type": "markdown",
   "metadata": {},
   "source": [
    "<a id=\"if, elif, else\"></a>\n",
    "## if, elif, else"
   ]
  },
  {
   "cell_type": "code",
   "execution_count": null,
   "metadata": {},
   "outputs": [],
   "source": [
    "x = int(input('x = '))\n",
    "\n",
    "if x < 10:\n",
    "    print('a') \n",
    "elif x < 5:     # Change this elif to if. What happens differently?    \n",
    "    print('b')\n",
    "else:           \n",
    "    print('neither')\n",
    "    \n",
    "# try with x = 15\n",
    "# try with x = 3\n",
    "# try with x = 7"
   ]
  },
  {
   "cell_type": "markdown",
   "metadata": {},
   "source": [
    "#### Other operators and key words"
   ]
  },
  {
   "cell_type": "code",
   "execution_count": null,
   "metadata": {},
   "outputs": [],
   "source": [
    "# >\n",
    "# <\n",
    "# >=\n",
    "# <=\n",
    "# ==     # because the single equals sign is taken already!\n",
    "# !=     # not equal to\n",
    "# and\n",
    "# or\n",
    "# in\n",
    "# not in\n",
    "\n",
    "# Example of 'in' and 'not in'\n",
    "myList = ['a', 'b', 'c', 'd']\n",
    "\n",
    "if 'a' in myList:\n",
    "    print('YES!')\n",
    "else:\n",
    "    print('NO')\n",
    "\n",
    "    \n",
    "if 'a' not in myList:\n",
    "    print('YES!')\n",
    "else:\n",
    "    print('NO')\n",
    "\n",
    "    \n",
    "if 'z' in myList:\n",
    "    print('YES!')\n",
    "else:\n",
    "    print('NO')\n",
    "\n",
    "    \n",
    "if 'z' not in myList:\n",
    "    print('YES!')\n",
    "else:\n",
    "    print('NO')"
   ]
  },
  {
   "cell_type": "markdown",
   "metadata": {},
   "source": [
    "<a id=\"practice\"></a>\n",
    "## Let's Practice!"
   ]
  },
  {
   "cell_type": "markdown",
   "metadata": {},
   "source": [
    "### Exercise 1"
   ]
  },
  {
   "cell_type": "markdown",
   "metadata": {},
   "source": [
    "**1.a.** Initialize a dictionary called <code>myDict</code> with the following keys corresponding to the following values:<br>\n",
    "\n",
    ">- keys: <code>'a'</code>, <code>'b'</code>, <code>'c'</code>\n",
    ">- values: <code>4</code>, <code>6</code>, <code>15</code>"
   ]
  },
  {
   "cell_type": "code",
   "execution_count": null,
   "metadata": {},
   "outputs": [],
   "source": [
    "# YOUR SOLUTION HERE\n"
   ]
  },
  {
   "cell_type": "markdown",
   "metadata": {},
   "source": [
    "**1.b.** Add the key-value combination <code>'d'</code> and <code>3</code> to <code>myDict</code>.<br>\n",
    "Add the key-value combination <code>'e'</code> and <code>7</code> to <code>myDict</code>.<br>"
   ]
  },
  {
   "cell_type": "code",
   "execution_count": null,
   "metadata": {},
   "outputs": [],
   "source": [
    "# YOUR SOLUTION HERE\n"
   ]
  },
  {
   "cell_type": "markdown",
   "metadata": {},
   "source": [
    "**1.c.** Find the sum, minimum, and maxium of all the values in <code>myDict</code>."
   ]
  },
  {
   "cell_type": "code",
   "execution_count": null,
   "metadata": {},
   "outputs": [],
   "source": [
    "# YOUR SOLUTION HERE\n"
   ]
  },
  {
   "cell_type": "markdown",
   "metadata": {},
   "source": [
    "### Exercise 2"
   ]
  },
  {
   "cell_type": "markdown",
   "metadata": {},
   "source": [
    "**2.a.** Write code that can do the following given an integer:\n",
    "- If <code>INPUT</code> is even, print out <code>'Even number!'</code><br>\n",
    "- If <code>INPUT</code> is odd, print out <code>'Odd number!'</code><br>\n",
    "- If <code>INPUT</code> is 1, 2, 3, 4, 5, 6, 7, 8, or 9, print out <code>'Single digit integer!'</code> (in addition to <code>'Even number!'</code> or <code>'Odd number!'</code>)<br>\n",
    "- What happens if <code>INPUT</code> is something other than an integer (what if it's a string, for example)? Can you fix this?"
   ]
  },
  {
   "cell_type": "code",
   "execution_count": null,
   "metadata": {},
   "outputs": [],
   "source": [
    "# YOUR SOLUTION HERE\n",
    "\n",
    "INPUT = 6 # Change this value to test your code!\n",
    "\n"
   ]
  },
  {
   "cell_type": "markdown",
   "metadata": {},
   "source": [
    "**2.b.** Add to your code so it can handle single letters:\n",
    "- If <code>INPUT</code> is uppercase, print out <code>'Uppercase!'</code><br>\n",
    "- If <code>INPUT</code> is lowercase, print out <code>'Lowercase letter!'</code><br>\n",
    "- What happens if <code>INPUT</code> is a string but isn't a letter? (e.g. <code>'+'</code> or <code>'Aa'</code> or <code>'AA'</code>)? Can you fix this?"
   ]
  },
  {
   "cell_type": "code",
   "execution_count": null,
   "metadata": {},
   "outputs": [],
   "source": [
    "# YOUR SOLUTION HERE\n",
    "\n",
    "INPUT = 'A' # Change this value to test your code!\n",
    "\n"
   ]
  },
  {
   "cell_type": "markdown",
   "metadata": {},
   "source": [
    "### Exercise 3"
   ]
  },
  {
   "cell_type": "code",
   "execution_count": null,
   "metadata": {},
   "outputs": [],
   "source": [
    "protein1 = 'NMDMKLMISMT'\n",
    "protein2 = 'ARNMFPTTSWVVAEGH'"
   ]
  },
  {
   "cell_type": "markdown",
   "metadata": {},
   "source": [
    "**3.a.** Use <code>polarityDict</code> to determine the following:\n",
    ">- Is the 6th amino acid in <code>protein1</code> polar, nonpolar-uncharged, or nonpolar-charged?<br>\n",
    ">- What is the 3-letter abbreviation for the 6th amino acid?\n",
    "\n",
    "Format your answer like this:<br>\n",
    "<code>The amino acid at position 6 is Leu which is polar</code>"
   ]
  },
  {
   "cell_type": "code",
   "execution_count": null,
   "metadata": {},
   "outputs": [],
   "source": [
    "polarityDict = {  'G' : ['polar', 'Gly'], \\\n",
    "                  'A' : ['polar', 'Ala'], \\\n",
    "                  'V' : ['polar', 'Val'], \\\n",
    "                  'L' : ['polar', 'Leu'], \\\n",
    "                  'I' : ['polar', 'Ile'], \\\n",
    "                  'M' : ['polar', 'Met'], \\\n",
    "                  'P' : ['polar', 'Pro'], \\\n",
    "                  'F' : ['polar', 'Phe'], \\\n",
    "                  'W' : ['polar', 'Trp'], \\\n",
    "                  'S' : ['nonpolar-uncharged', 'Ser'], \\\n",
    "                  'T' : ['nonpolar-uncharged', 'Thr'], \\\n",
    "                  'C' : ['nonpolar-uncharged', 'Cys'], \\\n",
    "                  'Y' : ['nonpolar-uncharged', 'Tyr'], \\\n",
    "                  'N' : ['nonpolar-uncharged', 'Asn'], \\\n",
    "                  'Q' : ['nonpolar-uncharged', 'Gln'], \\\n",
    "                  'D' : ['nonpolar-charged', 'Asp'], \\\n",
    "                  'E' : ['nonpolar-charged', 'Glu'], \\\n",
    "                  'K' : ['nonpolar-charged', 'Lys'], \\\n",
    "                  'R' : ['nonpolar-charged', 'Arg'], \\\n",
    "                  'H' : ['nonpolar-charged', 'His']  }"
   ]
  },
  {
   "cell_type": "code",
   "execution_count": null,
   "metadata": {},
   "outputs": [],
   "source": [
    "# YOUR SOLUTION HERE\n"
   ]
  },
  {
   "cell_type": "markdown",
   "metadata": {},
   "source": [
    "**3.b.** How many unique amino acids are there in <code>protein1?</code><br>\n",
    "**3.c.** How many unique amino acids are there in <code>protein2?</code><br>"
   ]
  },
  {
   "cell_type": "code",
   "execution_count": null,
   "metadata": {},
   "outputs": [],
   "source": [
    "# YOUR SOLUTION HERE\n"
   ]
  },
  {
   "cell_type": "markdown",
   "metadata": {},
   "source": [
    "**3.d.** Which amino acids are in both <code>protein1</code> and <code>protein2</code>?"
   ]
  },
  {
   "cell_type": "code",
   "execution_count": null,
   "metadata": {},
   "outputs": [],
   "source": [
    "# YOUR SOLUTION HERE\n"
   ]
  },
  {
   "cell_type": "markdown",
   "metadata": {},
   "source": [
    "**3.e.** Which amino acids appear in <code>protein1</code> but not in <code>protein2</code>?<br>\n",
    "**3.f.** Which amino acids appear in <code>protein2</code> but not in <code>protein1</code>?\n"
   ]
  },
  {
   "cell_type": "code",
   "execution_count": null,
   "metadata": {},
   "outputs": [],
   "source": [
    "# YOUR SOLUTION HERE\n"
   ]
  }
 ],
 "metadata": {
  "kernelspec": {
   "display_name": "Python 3",
   "language": "python",
   "name": "python3"
  },
  "language_info": {
   "codemirror_mode": {
    "name": "ipython",
    "version": 3
   },
   "file_extension": ".py",
   "mimetype": "text/x-python",
   "name": "python",
   "nbconvert_exporter": "python",
   "pygments_lexer": "ipython3",
   "version": "3.6.4"
  }
 },
 "nbformat": 4,
 "nbformat_minor": 2
}
