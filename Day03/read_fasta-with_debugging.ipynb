{
 "cells": [
  {
   "cell_type": "code",
   "execution_count": 2,
   "metadata": {},
   "outputs": [],
   "source": [
    "def read_fasta(fasta_filename):\n",
    "    '''\n",
    "    Go through file, reading one line at a time, using a\n",
    "    dictionary to store the DNA sequence for each of the FASTA\n",
    "    entries (Gavin Sherlock, November 28, 2019)\n",
    "    \n",
    "    Remove all lines that end with '# just for testing' after \n",
    "    you understand what this function is doing\n",
    "    '''    \n",
    "    with open(fasta_filename, mode='r') as fasta_file:\n",
    "\n",
    "        sequences = {}\n",
    "        currSeqName = '' # just for testing\n",
    "        linecount = 0 # just for testing\n",
    "\n",
    "        \n",
    "        for line in fasta_file:\n",
    "            line = line.rstrip()\n",
    "            linecount += 1 # just for testing\n",
    "            if linecount < 22 or linecount > 100: # just for testing\n",
    "                print(line, '*' + str(currSeqName) + '*') # just for testing\n",
    "            if linecount == 22: # just for testing\n",
    "                print('*********************') # just for testing\n",
    "            if line.startswith('>'): # it's a new fasta record\n",
    "                line = line.lstrip('>') #line = line[1:]\n",
    "                sequences[line] = '' # intialize dictionary for this entry\n",
    "                currSeqName = line\n",
    "            else:\n",
    "                sequences[currSeqName] += line\n",
    "\n",
    "    return(sequences)"
   ]
  },
  {
   "cell_type": "code",
   "execution_count": 3,
   "metadata": {},
   "outputs": [
    {
     "name": "stdout",
     "output_type": "stream",
     "text": [
      ">Rosalind_6820 **\n",
      "CATTAGCTAGCTAGCTGGTAGAAGATACGCCCTTTAATTTTCGAGCAAGGTCTGAGCGAG *Rosalind_6820*\n",
      "GGGAGTCCACCGTCATGCGTAGATCCTACATCCCTTATAAGTCTGCTTATTATGCGTTAA *Rosalind_6820*\n",
      "CGATCACTATCTCCTGAGAAAGGCACTCGGTTTTGGCTCACTAGACATGCGCCCGCGTAG *Rosalind_6820*\n",
      "ACACCTGTCACCAAGCATCCGTCACGTGATGTTAGTAAGGACATCCGCTACCCAGAATTT *Rosalind_6820*\n",
      "GATCTTTCCGATTGGTACTTTACAGCATGCTACTGGTTTTAGCCGGCGGTCCGGCATCTA *Rosalind_6820*\n",
      "GTCAAACATTTCGCTAAAGGTACACCGCTGCCTACCGATGTGCTTATGCGATGTGATGCA *Rosalind_6820*\n",
      "AATATATTACTTTGGCGCAAGAGTAGGCAAAAAAACTACCGGACCACGAATTTTAAACTT *Rosalind_6820*\n",
      "GCTTTGACCTATGGACCAAACGACGATGACAAGGAAAGTAATCTGCCATGTGCAAGTGCC *Rosalind_6820*\n",
      "GTCAAACCCGTTTTTGATTTAGGTAGCGTCCGACAGCTTGAAGGTGAGAGTTTATGAGTG *Rosalind_6820*\n",
      "GTTCGGTGTCCTCCAGTGCGGGCGACTCAGTGCTCTAAGAAGCCTCGCCGTATTGGCCCA *Rosalind_6820*\n",
      "ACATGAAGTCGCTGGTCCTTATTAAAAGGGTGCATCGGTTTGATTGTGCGACAACCGCCG *Rosalind_6820*\n",
      "TTGATACGCGGAATAAAATGTCATTAGCTGACCGGTGTAGCTTGTCTCCGAATAGGTCAA *Rosalind_6820*\n",
      "TGCTGCGAACCGCGCCCATATTTCCAATAAAGGCTGTGGGTCTTGGTGACTTACCGCATG *Rosalind_6820*\n",
      "AATAGGCGATAAACGCCCCTCGCTAGCAACCATGTGTCTCAATCAATCAGCACTTGCTGA *Rosalind_6820*\n",
      "AAATGAACTGGACACGACGACTTCATGTGAGAGTGCGGTGAATATACTGACATTTCCCTC *Rosalind_6820*\n",
      "CCAGTAACGAATCCTTGTGGTAGTGAGCCAGTATCCGTGGGCTTAGACGCAGTACTAGAT *Rosalind_6820*\n",
      "GTCGAAATTTTATCAAGGTCATAGTTTAGCTGTGT *Rosalind_6820*\n",
      ">Rosalind_3684 *Rosalind_6820*\n",
      "CAACGGTCCGGCGGTTGTCCTCTAAAGGAGCGTCCTGAAAACACGTTTAAATAGCACGTT *Rosalind_3684*\n",
      "TCTCTCATATACGGACTTTTATGTCACTCTTCATCTACTGTCATGGCCAGGGAATTTGAG *Rosalind_3684*\n",
      "*********************\n",
      ">Rosalind_5746 *Rosalind_9546*\n",
      "CCGAGCAGGGTTTATAACACTATGACCACTCTGGCTAAGCTTTACATCGTAATTAGCCCT *Rosalind_5746*\n",
      "TCCGTGCTTCCTACGATATAGATACACCCAAGCCGAGACCATCCCGGTTTGCCTTAAGAA *Rosalind_5746*\n",
      "GCAGCCGCCGGACCAGGTAAATGAATTCTCTGCCTGTGCCCAAACTACGGCTTGCGGCCA *Rosalind_5746*\n",
      "AGTGGGCATCCGCTTTCCACGTAGGTGCGGCGTGGGTGGAGGAACCACGGAGCGTGTGAG *Rosalind_5746*\n",
      "ATTCGTTTGGCCCTACTGATAAGAGACATCGGCCATTCTCGTGTCACGAACTCGGCTTCA *Rosalind_5746*\n",
      "GTGAGGCTGCAGAGGCGTATAAGACCAGGCCATCTGTAGTCATGAACATCGTAGGTGTTC *Rosalind_5746*\n",
      "GTAAATTCGCTTACAGAGTTGGGAGGGGACGCGGCTAAGAAACCCGGGGCCAGTGCGCGT *Rosalind_5746*\n",
      "CCTAAAACAGATACAGGTGCACGATTTTCAACTTGCCTCGCTTATAACTAAGCAGTAACA *Rosalind_5746*\n",
      "CACTTCGAGATTCGTTAATGTATAAGCGCTTGGACGGGCGCTGCCATCGGTATCTTCGCT *Rosalind_5746*\n",
      "GGCACTCGGTTGGATCCATTTCGGCGCGAAGAACGACAAGTCCGATAGGTGTTGAAGAGA *Rosalind_5746*\n",
      "GGATTGCGGAGACAAATGCGACCCAGCTGGACCGGGGTGACCTTTTTTCTATGGGAGACG *Rosalind_5746*\n",
      "TCGGCGTCACCCGTTGCATTGATTGTCCTATGCATAGAACGGCGTGGGCCCTACCAGCTG *Rosalind_5746*\n",
      "TGGTCCGTGTATGACACTCCATCGTCGGGCTTTGCTGATTGACTACAGGGACTGTAATCA *Rosalind_5746*\n",
      "CAGGCAGCCTGGGAGAGCCGGGGTGCAACCGAGGAGCCCACGCGTTAACCAACTTTGACT *Rosalind_5746*\n",
      "CGCTC *Rosalind_5746*\n",
      "Read 7 sequences\n"
     ]
    }
   ],
   "source": [
    "read_seqs = read_fasta('rosalind_dna.fsa')\n",
    "print('Read', len(read_seqs), 'sequences')"
   ]
  },
  {
   "cell_type": "code",
   "execution_count": null,
   "metadata": {},
   "outputs": [],
   "source": []
  }
 ],
 "metadata": {
  "kernelspec": {
   "display_name": "Python 3",
   "language": "python",
   "name": "python3"
  },
  "language_info": {
   "codemirror_mode": {
    "name": "ipython",
    "version": 3
   },
   "file_extension": ".py",
   "mimetype": "text/x-python",
   "name": "python",
   "nbconvert_exporter": "python",
   "pygments_lexer": "ipython3",
   "version": "3.7.3"
  }
 },
 "nbformat": 4,
 "nbformat_minor": 2
}
