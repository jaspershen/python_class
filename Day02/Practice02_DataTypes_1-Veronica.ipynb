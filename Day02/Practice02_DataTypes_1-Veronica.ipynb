{
 "cells": [
  {
   "cell_type": "markdown",
   "metadata": {},
   "source": [
    "# Practice: Data Types 1"
   ]
  },
  {
   "cell_type": "markdown",
   "metadata": {},
   "source": [
    "**11/19/2019<br>\n",
    "BIOS 274: Introductory Python Programming for Genomics**<br>"
   ]
  },
  {
   "cell_type": "markdown",
   "metadata": {},
   "source": [
    "## Table of Contents"
   ]
  },
  {
   "cell_type": "markdown",
   "metadata": {},
   "source": [
    "1. [Python data types](#data types)<br>\n",
    ">- [Integers and Floats](#int)<br>\n",
    ">- [Strings](#str)<br>\n",
    ">- [Lists and Tuples](#list)<br>\n",
    ">- [Booleans](#bool)<br>\n",
    "\n",
    "2. [Converting between data types](#convert)<br>\n",
    "3. [Let's practice!](#practice)"
   ]
  },
  {
   "cell_type": "markdown",
   "metadata": {},
   "source": [
    "<a id=\"data types\"></a>\n",
    "# Python data types"
   ]
  },
  {
   "cell_type": "markdown",
   "metadata": {},
   "source": [
    "#### **IMMUTABLE**\n",
    "- <code>integer</code>&emsp;&emsp;&emsp;&emsp;      <code>a = 2</code><br>\n",
    "- <code>float</code>&emsp;&emsp;&emsp;&emsp;&emsp;&ensp;        <code>b = 2.0</code><br>\n",
    "- <code>string</code>&emsp;&emsp;&emsp;&emsp;&ensp;&ensp;       <code>c = 'this is my string'</code><br>\n",
    "- <code>tuple</code>&emsp;&emsp;&emsp;&emsp;&emsp;&ensp;       <code>d = (1, 2, 3, 4)</code><br>\n",
    "- <code>boolean</code>&emsp;&emsp;&emsp;&emsp;      <code>e = True</code><br>\n",
    "\n",
    "#### **MUTABLE**\n",
    "- <code>list</code>&emsp;&emsp;&emsp;&emsp;&emsp;&emsp;&ensp;         <code>f = [1, 2, 3, 4]</code><br>\n",
    "- <code>dictionary</code>&emsp;&emsp;   <code>g = {'one': 1, 'two', 2}</code> &emsp;&emsp;&emsp;&emsp;&emsp;&emsp;&emsp;&emsp;&ensp;&ensp;(didn't cover today)<br>\n",
    "- <code>set</code>&emsp;&emsp;&emsp;&emsp;&emsp;&emsp;&emsp;         <code>h = set([1, 1, 1, 1, 2, 2, 3, 3, 4])</code> (didn't cover today)"
   ]
  },
  {
   "cell_type": "markdown",
   "metadata": {},
   "source": [
    "<a id=\"int\"></a>\n",
    "### Integers (int) and Floats (IMMUTABLE)"
   ]
  },
  {
   "cell_type": "code",
   "execution_count": 1,
   "metadata": {},
   "outputs": [
    {
     "name": "stdout",
     "output_type": "stream",
     "text": [
      "2\n",
      "5\n",
      "3.0\n"
     ]
    }
   ],
   "source": [
    "x = 2   # this is an integer\n",
    "y = 2.0 # this is a float\n",
    "\n",
    "# Add +\n",
    "# Subract -\n",
    "# Multipy *\n",
    "# Divide / or //\n",
    "# Power **, pow(9, .5)\n",
    "\n",
    "# Modulo (remainder) %\n",
    "print(20 % 3) # 20 / 3 = 6 with remainder 2, so this returns 2\n",
    "\n",
    "# Absolute value\n",
    "print(abs(-5))\n",
    "\n",
    "# Square root\n",
    "import math\n",
    "print(math.sqrt(9))"
   ]
  },
  {
   "cell_type": "markdown",
   "metadata": {},
   "source": [
    "BEFORE RUNNING THIS CELL, TRY TO PREDICT THE OUTPUT!"
   ]
  },
  {
   "cell_type": "code",
   "execution_count": 2,
   "metadata": {},
   "outputs": [
    {
     "name": "stdout",
     "output_type": "stream",
     "text": [
      "5\n",
      "6\n",
      "7\n",
      "14\n"
     ]
    }
   ],
   "source": [
    "# += -+ *= /= **=\n",
    "\n",
    "# i += 1 is equivalent to i = i + 1\n",
    "# i *= 5 is equivalent to i = i * 5\n",
    "\n",
    "i = 5\n",
    "print(i)\n",
    "\n",
    "i += 1\n",
    "print(i)\n",
    "\n",
    "i += 1\n",
    "print(i)\n",
    "\n",
    "i *= 2\n",
    "print(i)"
   ]
  },
  {
   "cell_type": "markdown",
   "metadata": {},
   "source": [
    "<a id=\"str\"></a>\n",
    "### Strings (str) (IMMUTABLE)"
   ]
  },
  {
   "cell_type": "code",
   "execution_count": 3,
   "metadata": {},
   "outputs": [],
   "source": [
    "z = 'abcddd' # this is a string"
   ]
  },
  {
   "cell_type": "code",
   "execution_count": 4,
   "metadata": {},
   "outputs": [
    {
     "name": "stdout",
     "output_type": "stream",
     "text": [
      "abcdddabcddd\n",
      "abcdddabcdddabcddd\n"
     ]
    }
   ],
   "source": [
    "# Concatonate and multipy\n",
    "print(z+z)\n",
    "print(z*3)"
   ]
  },
  {
   "cell_type": "code",
   "execution_count": 5,
   "metadata": {},
   "outputs": [
    {
     "name": "stdout",
     "output_type": "stream",
     "text": [
      "a\n",
      "c\n"
     ]
    }
   ],
   "source": [
    "# Index\n",
    "print(z[0])\n",
    "print(z[2])"
   ]
  },
  {
   "cell_type": "code",
   "execution_count": 6,
   "metadata": {},
   "outputs": [
    {
     "name": "stdout",
     "output_type": "stream",
     "text": [
      "bc\n",
      "abc\n",
      "dddcba\n"
     ]
    }
   ],
   "source": [
    "# Slice\n",
    "print(z[1:3])\n",
    "print(z[:3])\n",
    "print(z[::-1]) # reverses a string"
   ]
  },
  {
   "cell_type": "code",
   "execution_count": 7,
   "metadata": {},
   "outputs": [
    {
     "name": "stdout",
     "output_type": "stream",
     "text": [
      "ABCDDD\n"
     ]
    }
   ],
   "source": [
    "# Upper case or lower case\n",
    "print(z.upper()) # z.lower()"
   ]
  },
  {
   "cell_type": "code",
   "execution_count": 8,
   "metadata": {},
   "outputs": [
    {
     "name": "stdout",
     "output_type": "stream",
     "text": [
      "True\n",
      "False\n",
      "\n",
      "True\n",
      "False\n"
     ]
    }
   ],
   "source": [
    "# Ask if a string starts with or ends with another string\n",
    "\n",
    "print(z.startswith('abc')) # True\n",
    "print(z.startswith('x')) # False\n",
    "print()\n",
    "\n",
    "print(z.endswith('dd')) # True\n",
    "print(z.endswith('xyz')) # False"
   ]
  },
  {
   "cell_type": "code",
   "execution_count": 9,
   "metadata": {},
   "outputs": [
    {
     "name": "stdout",
     "output_type": "stream",
     "text": [
      "2\n",
      "2\n"
     ]
    }
   ],
   "source": [
    "# Find index\n",
    "print(z.find('c'))\n",
    "print(z.index('c'))"
   ]
  },
  {
   "cell_type": "code",
   "execution_count": 10,
   "metadata": {},
   "outputs": [
    {
     "name": "stdout",
     "output_type": "stream",
     "text": [
      "1\n",
      "3\n"
     ]
    }
   ],
   "source": [
    "# Count number of occurances\n",
    "print(z.count('b'))\n",
    "print(z.count('d'))"
   ]
  },
  {
   "cell_type": "code",
   "execution_count": 11,
   "metadata": {},
   "outputs": [
    {
     "name": "stdout",
     "output_type": "stream",
     "text": [
      "6\n"
     ]
    }
   ],
   "source": [
    "# Find length\n",
    "print(len(z))"
   ]
  },
  {
   "cell_type": "markdown",
   "metadata": {},
   "source": [
    "<a id=\"list\"></a>\n",
    "### Lists (MUTABLE) and Tuples (IMMUTABLE)"
   ]
  },
  {
   "cell_type": "code",
   "execution_count": 12,
   "metadata": {},
   "outputs": [],
   "source": [
    "y = (1,2,3,4) # this is a tuple (immutable)\n",
    "z = [1,2,3,4] # this is a list (mutable)"
   ]
  },
  {
   "cell_type": "code",
   "execution_count": 13,
   "metadata": {},
   "outputs": [
    {
     "name": "stdout",
     "output_type": "stream",
     "text": [
      "[1, 2, 3, 4, 1, 2, 3, 4]\n",
      "[1, 2, 3, 4, 1, 2, 3, 4, 1, 2, 3, 4]\n"
     ]
    }
   ],
   "source": [
    "# Concatonate and multiply\n",
    "print(z+z)\n",
    "print(z*3)"
   ]
  },
  {
   "cell_type": "code",
   "execution_count": 14,
   "metadata": {},
   "outputs": [
    {
     "name": "stdout",
     "output_type": "stream",
     "text": [
      "3\n"
     ]
    }
   ],
   "source": [
    "# Index\n",
    "print(z[2])"
   ]
  },
  {
   "cell_type": "code",
   "execution_count": 15,
   "metadata": {},
   "outputs": [
    {
     "name": "stdout",
     "output_type": "stream",
     "text": [
      "1\n"
     ]
    }
   ],
   "source": [
    "# Find index\n",
    "print(z.index(2))"
   ]
  },
  {
   "cell_type": "code",
   "execution_count": 16,
   "metadata": {},
   "outputs": [
    {
     "name": "stdout",
     "output_type": "stream",
     "text": [
      "[2, 3]\n",
      "[4, 3, 2, 1]\n"
     ]
    }
   ],
   "source": [
    "# Slice\n",
    "print(z[1:3])\n",
    "print(z[::-1]) # reverses list"
   ]
  },
  {
   "cell_type": "code",
   "execution_count": 17,
   "metadata": {},
   "outputs": [
    {
     "name": "stdout",
     "output_type": "stream",
     "text": [
      "[1, 2, 3, 4, 5]\n",
      "[1, 2, 3, 4, 5, 6, 7]\n"
     ]
    }
   ],
   "source": [
    "# Lists are mutable, so items can be added (tuples are immutable so items cannot be added)\n",
    "\n",
    "z.append(5) # add one item at a time with append()\n",
    "print(z)\n",
    "\n",
    "z.extend([6, 7]) # add many items at a time with extend()\n",
    "print(z)"
   ]
  },
  {
   "cell_type": "code",
   "execution_count": 18,
   "metadata": {},
   "outputs": [
    {
     "name": "stdout",
     "output_type": "stream",
     "text": [
      "[1, 2, 9, 4, 5, 6, 7]\n"
     ]
    }
   ],
   "source": [
    "# Lists are mutable and can be edited (tuples are immutable and can't be edited)\n",
    "z[2] = 9\n",
    "print(z)"
   ]
  },
  {
   "cell_type": "code",
   "execution_count": 19,
   "metadata": {},
   "outputs": [
    {
     "name": "stdout",
     "output_type": "stream",
     "text": [
      "1\n"
     ]
    }
   ],
   "source": [
    "# Count number of occurances\n",
    "print(z.count(2))"
   ]
  },
  {
   "cell_type": "code",
   "execution_count": 20,
   "metadata": {},
   "outputs": [
    {
     "name": "stdout",
     "output_type": "stream",
     "text": [
      "7\n"
     ]
    }
   ],
   "source": [
    "# Find length\n",
    "print(len(z))"
   ]
  },
  {
   "cell_type": "code",
   "execution_count": 21,
   "metadata": {},
   "outputs": [
    {
     "name": "stdout",
     "output_type": "stream",
     "text": [
      "9\n",
      "1\n"
     ]
    }
   ],
   "source": [
    "# Find maximum and minimum\n",
    "print(max(z))\n",
    "print(min(z))"
   ]
  },
  {
   "cell_type": "code",
   "execution_count": 22,
   "metadata": {},
   "outputs": [
    {
     "name": "stdout",
     "output_type": "stream",
     "text": [
      "34\n"
     ]
    }
   ],
   "source": [
    "# Find the sum of all integers and floats in a list or tuple\n",
    "print(sum(z))"
   ]
  },
  {
   "cell_type": "code",
   "execution_count": 23,
   "metadata": {},
   "outputs": [
    {
     "name": "stdout",
     "output_type": "stream",
     "text": [
      "('x', 'y')\n",
      "x\n",
      "y\n"
     ]
    }
   ],
   "source": [
    "# Index lists/tuples within lists/tuples\n",
    "a = ['a', 'b', 'c', ('x', 'y')]\n",
    "print(a[3])\n",
    "print(a[3][0])\n",
    "print(a[3][1])"
   ]
  },
  {
   "cell_type": "markdown",
   "metadata": {},
   "source": [
    "<a id=\"bool\"></a>\n",
    "### Booleans (bool) (IMMUTABLE)"
   ]
  },
  {
   "cell_type": "code",
   "execution_count": 24,
   "metadata": {},
   "outputs": [],
   "source": [
    "# True and False\n",
    "# \"Everything that isn't False is True\"\n",
    "# The False things:  0, 0.0, '', [], () ,{}, False , None"
   ]
  },
  {
   "cell_type": "code",
   "execution_count": 25,
   "metadata": {},
   "outputs": [],
   "source": [
    "# >\n",
    "# <\n",
    "# >=\n",
    "# <=\n",
    "# ==     # because the single equals sign is taken already!\n",
    "# !=     # not equal to\n",
    "# and\n",
    "# or\n",
    "# in\n",
    "# not in"
   ]
  },
  {
   "cell_type": "code",
   "execution_count": 26,
   "metadata": {},
   "outputs": [
    {
     "name": "stdout",
     "output_type": "stream",
     "text": [
      "True\n",
      "False\n",
      "False\n",
      "True\n",
      "\n",
      "True\n",
      "False\n",
      "True\n",
      "True\n",
      "\n",
      "True\n",
      "False\n",
      "False\n",
      "True\n",
      "\n",
      "0.0 is False\n",
      "0.0 is False\n"
     ]
    }
   ],
   "source": [
    "print(4 == 4) # True\n",
    "print(4 != 4) # False\n",
    "print(5 > 7) # False\n",
    "print(9 <= 9) # True\n",
    "print()\n",
    "\n",
    "print(4 == 4 and 3 == 3) # True\n",
    "print(4 == 4 and 3 != 3) # False\n",
    "print(4 == 4 or 3 != 3) # True\n",
    "print(0 > 4 or 8 >= 7) # True\n",
    "print()\n",
    "\n",
    "print(5 in [1, 2, 3, 4, 5]) # True\n",
    "print(5 in [1, 2, 3, 4]) # False\n",
    "print(5 not in [1, 2, 3, 4, 5]) # False\n",
    "print(5 not in [1, 2, 3, 4]) # True\n",
    "print()\n",
    "\n",
    "if 0.0 == False:\n",
    "    print('0.0 is False')\n",
    "    \n",
    "# better but maybe confusing\n",
    "if not 0.0:\n",
    "    print('0.0 is False')"
   ]
  },
  {
   "cell_type": "markdown",
   "metadata": {},
   "source": [
    "<a id=\"convert\"></a>\n",
    "## Converting between data types"
   ]
  },
  {
   "cell_type": "code",
   "execution_count": 27,
   "metadata": {},
   "outputs": [],
   "source": [
    "myInt = 4\n",
    "myFloat = 4.368\n",
    "myString = 'abcd'\n",
    "myList = ['1', '2', '3']"
   ]
  },
  {
   "cell_type": "code",
   "execution_count": 28,
   "metadata": {},
   "outputs": [
    {
     "name": "stdout",
     "output_type": "stream",
     "text": [
      "<class 'int'>\n",
      "<class 'float'>\n",
      "<class 'str'>\n",
      "<class 'list'>\n"
     ]
    }
   ],
   "source": [
    "# Check the type of the variable using type()\n",
    "print(type(myInt))\n",
    "print(type(myFloat))\n",
    "print(type(myString))\n",
    "print(type(myList))"
   ]
  },
  {
   "cell_type": "code",
   "execution_count": 29,
   "metadata": {},
   "outputs": [
    {
     "name": "stdout",
     "output_type": "stream",
     "text": [
      "4.0\n",
      "4\n",
      "4.368\n"
     ]
    }
   ],
   "source": [
    "# Simple ways to convert ints and floats using float(), int(), str()\n",
    "print(float(myInt))\n",
    "print(int(myFloat))\n",
    "print(str(myFloat))"
   ]
  },
  {
   "cell_type": "code",
   "execution_count": 30,
   "metadata": {},
   "outputs": [
    {
     "name": "stdout",
     "output_type": "stream",
     "text": [
      "['1', '2', '3']\n",
      "123\n",
      "1 2 3\n",
      "1-2-3\n",
      "1\t2\t3\n",
      "1\n",
      "2\n",
      "3\n"
     ]
    }
   ],
   "source": [
    "# Convert from a list to a string using .join()\n",
    "print(myList)\n",
    "print(''.join(myList))\n",
    "print(' '.join(myList))\n",
    "print('-'.join(myList))\n",
    "print('\\t'.join(myList)) # \\t is how you indicate tabs\n",
    "print('\\n'.join(myList)) # \\n is how you indicate new lines (enters)"
   ]
  },
  {
   "cell_type": "code",
   "execution_count": 31,
   "metadata": {},
   "outputs": [
    {
     "name": "stdout",
     "output_type": "stream",
     "text": [
      "abcd\n",
      "['a', 'b', 'c', 'd']\n",
      "['1', '2', '3']\n",
      "['1', '2', '3']\n"
     ]
    }
   ],
   "source": [
    "# Convert a string to a list using list() or .split()\n",
    "\n",
    "# Using list()\n",
    "print(myString)\n",
    "print(list(myString))\n",
    "\n",
    "# Using .split()\n",
    "myNewString = '1-2-3' \n",
    "print(myNewString.split('-')) # ['1', '2', '3']\n",
    "\n",
    "myNewString2 = '1 2 3'\n",
    "print(myNewString2.split(' ')) # ['1', '2', '3']"
   ]
  },
  {
   "cell_type": "markdown",
   "metadata": {},
   "source": [
    "<a id=\"practice\"></a>\n",
    "## Let's practice!"
   ]
  },
  {
   "cell_type": "markdown",
   "metadata": {},
   "source": [
    "### Exercise 1"
   ]
  },
  {
   "cell_type": "code",
   "execution_count": 32,
   "metadata": {},
   "outputs": [],
   "source": [
    "myList1 = [1, 2, 3, 4, 5, 6]"
   ]
  },
  {
   "cell_type": "markdown",
   "metadata": {},
   "source": [
    "**1.a.** Without initializing any new variables and only using <code>myList1</code>, print out <code>[4, 5, 6, 1, 2, 3]</code>"
   ]
  },
  {
   "cell_type": "code",
   "execution_count": 33,
   "metadata": {},
   "outputs": [
    {
     "name": "stdout",
     "output_type": "stream",
     "text": [
      "[4, 5, 6]\n",
      "[1, 2, 3]\n"
     ]
    },
    {
     "data": {
      "text/plain": [
       "[4, 5, 6, 1, 2, 3]"
      ]
     },
     "execution_count": 33,
     "metadata": {},
     "output_type": "execute_result"
    }
   ],
   "source": [
    "# YOUR SOLUTION HERE\n",
    "print(myList1[3:]) # slice to generate [4, 5, 6]\n",
    "print(myList1[:3]) # slice to generate [1, 2, 3]\n",
    "\n",
    "myList1[3:] + myList1[:3] # concatonate the two slices"
   ]
  },
  {
   "cell_type": "markdown",
   "metadata": {},
   "source": [
    "**1.b.** Without initializing any new variables and only using <code>myList1</code>, print out <code>[4, 5, 6, 3, 2, 1]</code>"
   ]
  },
  {
   "cell_type": "code",
   "execution_count": 34,
   "metadata": {},
   "outputs": [
    {
     "name": "stdout",
     "output_type": "stream",
     "text": [
      "[4, 5, 6]\n",
      "[3, 2, 1]\n"
     ]
    },
    {
     "data": {
      "text/plain": [
       "[4, 5, 6, 3, 2, 1]"
      ]
     },
     "execution_count": 34,
     "metadata": {},
     "output_type": "execute_result"
    }
   ],
   "source": [
    "# YOUR SOLUTION HERE\n",
    "print(myList1[3:]) # slice to generate [4, 5, 6]\n",
    "print(myList1[:3][::-1]) # slice and reverse with [::-1] to generate [3 , 2, 1]\n",
    "\n",
    "myList1[3:] + myList1[:3][::-1] # concatonate the two slices"
   ]
  },
  {
   "cell_type": "code",
   "execution_count": 35,
   "metadata": {},
   "outputs": [
    {
     "name": "stdout",
     "output_type": "stream",
     "text": [
      "[4, 5, 6]\n",
      "[1, 2, 3]\n",
      "[3, 2, 1]\n"
     ]
    },
    {
     "data": {
      "text/plain": [
       "[4, 5, 6, 3, 2, 1]"
      ]
     },
     "execution_count": 35,
     "metadata": {},
     "output_type": "execute_result"
    }
   ],
   "source": [
    "# Here's the step-by-step version of the above solution to 1.b.\n",
    "\n",
    "sublist1 = myList1[3:]\n",
    "sublist2 = myList1[:3]\n",
    "sublist2_reversed = sublist2[::-1]\n",
    "finalList = sublist1 + sublist2_reversed\n",
    "\n",
    "print(sublist1)\n",
    "print(sublist2)\n",
    "print(sublist2_reversed)\n",
    "\n",
    "finalList"
   ]
  },
  {
   "cell_type": "markdown",
   "metadata": {},
   "source": [
    "### Exercise 2"
   ]
  },
  {
   "cell_type": "code",
   "execution_count": 36,
   "metadata": {},
   "outputs": [],
   "source": [
    "myList2 = ['This', 'is', 'BIOS274.', ['It is a', 'fun class!']]"
   ]
  },
  {
   "cell_type": "markdown",
   "metadata": {},
   "source": [
    "**2.a.** Without initializing any new variables and only using <code>myList2</code>, print out <code>'2'</code>."
   ]
  },
  {
   "cell_type": "code",
   "execution_count": 37,
   "metadata": {},
   "outputs": [
    {
     "name": "stdout",
     "output_type": "stream",
     "text": [
      "BIOS274.\n",
      "2\n"
     ]
    }
   ],
   "source": [
    "# YOUR SOLUTION HERE\n",
    "\n",
    "# access 'BIOS274.'\n",
    "print(myList2[2])\n",
    "\n",
    "# access the '2' within 'BIOS274.'\n",
    "print(myList2[2][4])"
   ]
  },
  {
   "cell_type": "markdown",
   "metadata": {},
   "source": [
    "**2.b.** Print out only <code>'fun class!'</code>."
   ]
  },
  {
   "cell_type": "code",
   "execution_count": 38,
   "metadata": {},
   "outputs": [
    {
     "name": "stdout",
     "output_type": "stream",
     "text": [
      "['It is a', 'fun class!']\n",
      "fun class!\n"
     ]
    }
   ],
   "source": [
    "# YOUR SOLUTION HERE\n",
    "\n",
    "# access ['It is a', 'fun class!']\n",
    "print(myList2[3])\n",
    "\n",
    "# access 'fun class!'\n",
    "print(myList2[3][1])"
   ]
  },
  {
   "cell_type": "markdown",
   "metadata": {},
   "source": [
    "**2.c.** Print out <code>'This is BIOS274. It is a fun class!'</code>"
   ]
  },
  {
   "cell_type": "code",
   "execution_count": 39,
   "metadata": {},
   "outputs": [
    {
     "name": "stdout",
     "output_type": "stream",
     "text": [
      "['This', 'is', 'BIOS274.']\n",
      "This is BIOS274.\n",
      "['It is a', 'fun class!']\n",
      "It is a fun class!\n"
     ]
    },
    {
     "data": {
      "text/plain": [
       "'This is BIOS274. It is a fun class!'"
      ]
     },
     "execution_count": 39,
     "metadata": {},
     "output_type": "execute_result"
    }
   ],
   "source": [
    "# YOUR SOLUTION HERE\n",
    "\n",
    "# Here, you need to convert lists to strings using ''.join()\n",
    "\n",
    "# generate the string 'This is BIOS274.'\n",
    "firstThreeItems = myList2[:-1]\n",
    "print(firstThreeItems)\n",
    "\n",
    "firstThreeItems_string = ' '.join(firstThreeItems)\n",
    "print(firstThreeItems_string)\n",
    "\n",
    "\n",
    "# generate the string 'It is a fun class!'\n",
    "lastTwoItems = myList2[3]\n",
    "print(lastTwoItems)\n",
    "\n",
    "lastTwoItems_string = ' '.join(lastTwoItems)\n",
    "print(lastTwoItems_string)\n",
    "\n",
    "\n",
    "# concatonate the two strings together\n",
    "firstThreeItems_string + ' ' + lastTwoItems_string"
   ]
  },
  {
   "cell_type": "code",
   "execution_count": 40,
   "metadata": {},
   "outputs": [
    {
     "data": {
      "text/plain": [
       "'This is BIOS274. It is a fun class!'"
      ]
     },
     "execution_count": 40,
     "metadata": {},
     "output_type": "execute_result"
    }
   ],
   "source": [
    "# Here's the solution in single line of code!\n",
    "\n",
    "' '.join(myList2[:-1]) + ' ' + ' '.join(myList2[3])"
   ]
  },
  {
   "cell_type": "markdown",
   "metadata": {},
   "source": [
    "### Exercise 3"
   ]
  },
  {
   "cell_type": "markdown",
   "metadata": {},
   "source": [
    "Calulate the sum of the 3rd and the 5th numbers in the list below and append the result to the end of the <code>myList3</code>."
   ]
  },
  {
   "cell_type": "code",
   "execution_count": 41,
   "metadata": {},
   "outputs": [],
   "source": [
    "myList3 = ['4', '6', '2', '1', '8', '7', '3']"
   ]
  },
  {
   "cell_type": "code",
   "execution_count": 42,
   "metadata": {},
   "outputs": [
    {
     "name": "stdout",
     "output_type": "stream",
     "text": [
      "2\n",
      "8\n",
      "10\n"
     ]
    },
    {
     "data": {
      "text/plain": [
       "['4', '6', '2', '1', '8', '7', '3', '10']"
      ]
     },
     "execution_count": 42,
     "metadata": {},
     "output_type": "execute_result"
    }
   ],
   "source": [
    "# YOUR SOLUTION HERE\n",
    "\n",
    "myList3 = ['4', '6', '2', '1', '8', '7', '3']\n",
    "\n",
    "# access the 3rd number (index 2)\n",
    "third = myList3[2]\n",
    "print(third)\n",
    "\n",
    "# access the 5th number (index 4)\n",
    "fifth = myList3[4]\n",
    "print(fifth)\n",
    "\n",
    "# add them together (DID THIS WORK AS EXPECTED??????)\n",
    "#summed = third + fifth # This concatonates the strings!!!\n",
    "summed = int(third) + int(fifth) # This is what we wanted\n",
    "print(summed)\n",
    "\n",
    "# append to the end of myList3\n",
    "myList3.append(str(summed))\n",
    "\n",
    "myList3"
   ]
  },
  {
   "cell_type": "code",
   "execution_count": 43,
   "metadata": {},
   "outputs": [
    {
     "data": {
      "text/plain": [
       "['4', '6', '2', '1', '8', '7', '3', '10']"
      ]
     },
     "execution_count": 43,
     "metadata": {},
     "output_type": "execute_result"
    }
   ],
   "source": [
    "# Here's the solution in single line of code!\n",
    "\n",
    "myList3 = ['4', '6', '2', '1', '8', '7', '3']\n",
    "\n",
    "myList3.append(str(int(myList3[2]) + int(myList3[4])))\n",
    "myList3"
   ]
  },
  {
   "cell_type": "markdown",
   "metadata": {},
   "source": [
    "### Exercise 4"
   ]
  },
  {
   "cell_type": "markdown",
   "metadata": {},
   "source": [
    "**4.a.** What percentage of the items in <code>myList4</code> is equal to <code>3</code>?<br>\n",
    "**4.b.** What percentage of the items in <code>myList4</code> is equal to <code>4</code>?<br>\n",
    "**4.c.** What percentage of the items in <code>myList4</code> is equal to <code>5</code>?<br>"
   ]
  },
  {
   "cell_type": "code",
   "execution_count": 44,
   "metadata": {},
   "outputs": [],
   "source": [
    "myList4 = [3, 3, 4, 4, 4, 3, 5, 4, 4, 4, 5, 5, 5, 4, 5, 3, 5, 4, 3, 3, 4, 3, 5, 4, 3, 3, 5, 3, 4, 4, 4, 4, 3, 5]"
   ]
  },
  {
   "cell_type": "code",
   "execution_count": 45,
   "metadata": {},
   "outputs": [
    {
     "data": {
      "text/plain": [
       "32.35"
      ]
     },
     "execution_count": 45,
     "metadata": {},
     "output_type": "execute_result"
    }
   ],
   "source": [
    "# YOUR SOLUTION HERE\n",
    "\n",
    "number_of_interest = 3 # change this to 4 or 5 for 4.b. or 4.c.\n",
    "\n",
    "totalNum = len(myList4) # How many total numbers are there in  myList4?\n",
    "#print(totalNum)\n",
    "\n",
    "count = myList4.count(number_of_interest) # How many 3's are in myList4?\n",
    "#print(count)\n",
    "\n",
    "round((count / totalNum) * 100, 2) # calculate the percentage of 3's"
   ]
  },
  {
   "cell_type": "markdown",
   "metadata": {},
   "source": [
    "### Exercise 5"
   ]
  },
  {
   "cell_type": "markdown",
   "metadata": {},
   "source": [
    "**5.a.** Using only <code>myString1</code> and without initializing any new variables, print out: <code>['ab', 'ab', 'ab', 'ab', 'ab', 'ab']</code><br> \n",
    "**5.b.** Using only <code>myString1</code> and without initializing any new variables, print out: <code>'bCbC'</code><br>\n",
    "<br>\n",
    "Try to solve **5.a** and **5.b.** in multiple ways."
   ]
  },
  {
   "cell_type": "code",
   "execution_count": 46,
   "metadata": {},
   "outputs": [],
   "source": [
    "myString1 = 'abCabCab'"
   ]
  },
  {
   "cell_type": "code",
   "execution_count": 47,
   "metadata": {},
   "outputs": [
    {
     "name": "stdout",
     "output_type": "stream",
     "text": [
      "['ab', 'ab', 'ab', 'ab', 'ab', 'ab']\n",
      "['ab', 'ab', 'ab', 'ab', 'ab', 'ab']\n"
     ]
    }
   ],
   "source": [
    "# YOUR SOLUTION HERE\n",
    "\n",
    "# 5.a.\n",
    "\n",
    "# Option 1 (this is a much better solution than Option 2)\n",
    "print(myString1.split('C') * 2)\n",
    "\n",
    "# Option 2\n",
    "print(list([myString1[:2], myString1[3:5], myString1[6:]]) * 2)"
   ]
  },
  {
   "cell_type": "code",
   "execution_count": 48,
   "metadata": {},
   "outputs": [
    {
     "name": "stdout",
     "output_type": "stream",
     "text": [
      "bCbC\n",
      "bCbC\n",
      "bCbC\n"
     ]
    }
   ],
   "source": [
    "# 5.b.\n",
    "\n",
    "# Option 1\n",
    "print(myString1.replace('a', '')[:-1])\n",
    "\n",
    "# Option 2\n",
    "print(''.join(myString1.split('a')[1:3]))\n",
    "\n",
    "# Option 3\n",
    "print(myString1[1:3] + myString1[4:6])"
   ]
  },
  {
   "cell_type": "markdown",
   "metadata": {},
   "source": [
    "### Exercise 6"
   ]
  },
  {
   "cell_type": "markdown",
   "metadata": {},
   "source": [
    "Find the index of the second <code>'a'</code> in <code>myString2</code>.\n",
    "> Try using <code>s.index()</code>!<br>\n",
    "> Try using <code>s.replace()</code>!<br>\n",
    "> Try using slicing!"
   ]
  },
  {
   "cell_type": "code",
   "execution_count": 49,
   "metadata": {},
   "outputs": [],
   "source": [
    "myString2 = 'BBnBBBBBaCCCCCaDDDDDDDnDDDDDaEnEE'"
   ]
  },
  {
   "cell_type": "code",
   "execution_count": 50,
   "metadata": {},
   "outputs": [
    {
     "name": "stdout",
     "output_type": "stream",
     "text": [
      "14\n"
     ]
    }
   ],
   "source": [
    "# YOUR SOLUTION HERE\n",
    "\n",
    "# Option 1 - using s.index()\n",
    "print(myString2.index('a', myString2.index('a') + 1))"
   ]
  },
  {
   "cell_type": "code",
   "execution_count": 51,
   "metadata": {},
   "outputs": [
    {
     "name": "stdout",
     "output_type": "stream",
     "text": [
      "14\n"
     ]
    }
   ],
   "source": [
    "# Option 2 - using s.find()\n",
    "print(myString2.find('a', myString2.index('a') + 1))"
   ]
  },
  {
   "cell_type": "code",
   "execution_count": 52,
   "metadata": {},
   "outputs": [
    {
     "data": {
      "text/plain": [
       "14"
      ]
     },
     "execution_count": 52,
     "metadata": {},
     "output_type": "execute_result"
    }
   ],
   "source": [
    "# Option 3 - using s.replace()\n",
    "myString2.replace('a', 'x', 1).index('a')"
   ]
  },
  {
   "cell_type": "code",
   "execution_count": 53,
   "metadata": {},
   "outputs": [
    {
     "data": {
      "text/plain": [
       "14"
      ]
     },
     "execution_count": 53,
     "metadata": {},
     "output_type": "execute_result"
    }
   ],
   "source": [
    "# Option 4 - using slicing and s.index()\n",
    "myString2.index('a') + myString2[myString2.index('a') + 1:].index('a') + 1"
   ]
  },
  {
   "cell_type": "markdown",
   "metadata": {},
   "source": [
    "### Exercise 7"
   ]
  },
  {
   "cell_type": "markdown",
   "metadata": {},
   "source": [
    "**7.a.** Which of these three homeobox transcription factors will bind to the sequence defined in <code>seq1</code>?\n",
    "\n",
    ">- <code>CRX</code> recognizes <code>TAATCC</code><br>\n",
    ">- <code>DBX1</code> recognizes <code>ATTAATTA</code> or <code>TTTAATTA</code><br>\n",
    ">- <code>PKNOX2</code> recognizes <code>TGACAGCTGTCA</code> or <code>TGACAGGTGTCA</code><br>"
   ]
  },
  {
   "cell_type": "markdown",
   "metadata": {},
   "source": [
    "Please print the name of the transcription factor followed by <code>True</code> if it will bind or <code>False</code> if it will not bind as shown below.<br>\n",
    "\n",
    "\n",
    "<code>CRX:     True\n",
    " DBX1:\tFalse\n",
    " PKNOX2:  True\n",
    "</code>"
   ]
  },
  {
   "cell_type": "code",
   "execution_count": 54,
   "metadata": {},
   "outputs": [],
   "source": [
    "seq1 = 'gGgctAatCcaccCCccagtacCcAcatgacaGgtGtcaccctagcTtaAtcccCgccatcgatcaaccttTagC'"
   ]
  },
  {
   "cell_type": "code",
   "execution_count": 55,
   "metadata": {},
   "outputs": [
    {
     "name": "stdout",
     "output_type": "stream",
     "text": [
      "CRX:\t True\n",
      "DBX1:\t False\n",
      "PKNOX2:\t True\n"
     ]
    }
   ],
   "source": [
    "# YOUR SOLUTION HERE\n",
    "\n",
    "CRX = 'TAATCC'\n",
    "DBX1_a = 'ATTAATTA'\n",
    "DBX1_b = 'TTTAATTA'\n",
    "PKNOX2_a = 'TGACAGCTGTCA'\n",
    "PKNOX2_b = 'TGACAGGTGTCA'\n",
    "\n",
    "seq1 = seq1.upper()\n",
    "\n",
    "print('CRX:\\t', CRX in seq1)\n",
    "print('DBX1:\\t', DBX1_a in seq1 or DBX1_b in seq1)\n",
    "print('PKNOX2:\\t', PKNOX2_a in seq1 or PKNOX2_b in seq1)"
   ]
  },
  {
   "cell_type": "markdown",
   "metadata": {},
   "source": [
    "**7.b** Do all three of these transcription factors bind <code>seq2</code>?  Print <code>True</code> if they all do and <code>False</code> if not.<br>\n",
    "**7.c** Do all three bind <code>seq3</code>?"
   ]
  },
  {
   "cell_type": "code",
   "execution_count": 56,
   "metadata": {},
   "outputs": [],
   "source": [
    "seq2 = 'gGgctTaaTCccCccagtacCcAcaTttAaTtatGtcaCcctagcTgacagCTgtcacgCCatcgatcaaccttTagC'\n",
    "seq3 = 'ggtatatccggccgataATtatatAagcgcgccccTgaCAgcTgtCAtaatatcgatcgatcaGGagcggctatAtagcgcgcGatcagcagcctcga'"
   ]
  },
  {
   "cell_type": "code",
   "execution_count": 57,
   "metadata": {},
   "outputs": [
    {
     "name": "stdout",
     "output_type": "stream",
     "text": [
      "True\n"
     ]
    }
   ],
   "source": [
    "# YOUR SOLUTION HERE\n",
    "\n",
    "mySeq = seq2.upper() # change seq2.upper() to seq3.upper() to see the solution to 7.c.\n",
    "print((CRX in mySeq) and (DBX1_a in mySeq or DBX1_b in mySeq) and (PKNOX2_a in mySeq or PKNOX2_b in mySeq))"
   ]
  },
  {
   "cell_type": "markdown",
   "metadata": {},
   "source": [
    "### Exercise 8"
   ]
  },
  {
   "cell_type": "markdown",
   "metadata": {},
   "source": [
    "**8.a.** How many integers appear in <code>myList5</code>?<br>\n",
    "**8.b.** How many floats appear in <code>myList5</code>?<br>\n",
    "**8.c.** How many strings appear in <code>myList5</code>?"
   ]
  },
  {
   "cell_type": "code",
   "execution_count": 58,
   "metadata": {},
   "outputs": [],
   "source": [
    "myList5 = ['apple', 'a', 1, 5, 'o', 3.4, 7.8, 5, 2, 7, 8, 1, 3.5, 6, 'a', 'hello', True, 7, 9, 3.0, 1, 5, False]"
   ]
  },
  {
   "cell_type": "code",
   "execution_count": 59,
   "metadata": {},
   "outputs": [
    {
     "name": "stdout",
     "output_type": "stream",
     "text": [
      "apple\n",
      "a\n",
      "1\n",
      "5\n",
      "o\n",
      "3.4\n",
      "7.8\n",
      "5\n",
      "2\n",
      "7\n",
      "8\n",
      "1\n",
      "3.5\n",
      "6\n",
      "a\n",
      "hello\n",
      "True\n",
      "7\n",
      "9\n",
      "3.0\n",
      "1\n",
      "5\n",
      "False\n"
     ]
    }
   ],
   "source": [
    "# YOUR SOLUTION HERE\n",
    "\n",
    "# Start with this code.\n",
    "\n",
    "# You won't actually need to print each item in the list, \n",
    "#     so comment out the print statement once you understand the code.\n",
    "\n",
    "for item in myList5:\n",
    "    print(item)\n",
    "    \n",
    "# WILL UPDATE WITH SOLUTION LATER - might do this in class"
   ]
  }
 ],
 "metadata": {
  "kernelspec": {
   "display_name": "Python 3",
   "language": "python",
   "name": "python3"
  },
  "language_info": {
   "codemirror_mode": {
    "name": "ipython",
    "version": 3
   },
   "file_extension": ".py",
   "mimetype": "text/x-python",
   "name": "python",
   "nbconvert_exporter": "python",
   "pygments_lexer": "ipython3",
   "version": "3.6.4"
  }
 },
 "nbformat": 4,
 "nbformat_minor": 2
}
